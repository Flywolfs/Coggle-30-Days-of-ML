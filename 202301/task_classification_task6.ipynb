{
 "cells": [
  {
   "cell_type": "code",
   "execution_count": 1,
   "id": "8588402f",
   "metadata": {},
   "outputs": [],
   "source": [
    "import pandas as pd\n",
    "\n",
    "def load_lcqmc():\n",
    "    '''LCQMC文本匹配数据集\n",
    "    '''\n",
    "    train = pd.read_csv('https://mirror.coggle.club/dataset/LCQMC.train.data.zip', \n",
    "            sep='\\t', names=['query1', 'query2', 'label'])\n",
    "\n",
    "    valid = pd.read_csv('https://mirror.coggle.club/dataset/LCQMC.valid.data.zip', \n",
    "            sep='\\t', names=['query1', 'query2', 'label'])\n",
    "\n",
    "    test = pd.read_csv('https://mirror.coggle.club/dataset/LCQMC.test.data.zip', \n",
    "            sep='\\t', names=['query1', 'query2', 'label'])\n",
    "\n",
    "    return train, valid, test"
   ]
  },
  {
   "cell_type": "code",
   "execution_count": 2,
   "id": "5e30d3a1",
   "metadata": {},
   "outputs": [],
   "source": [
    "from tqdm.notebook import tqdm\n",
    "tqdm.pandas()"
   ]
  },
  {
   "cell_type": "code",
   "execution_count": 3,
   "id": "339410f0",
   "metadata": {},
   "outputs": [],
   "source": [
    "train,valid,test = load_lcqmc()"
   ]
  },
  {
   "cell_type": "code",
   "execution_count": 27,
   "id": "af4db024",
   "metadata": {},
   "outputs": [
    {
     "data": {
      "text/html": [
       "<div>\n",
       "<style scoped>\n",
       "    .dataframe tbody tr th:only-of-type {\n",
       "        vertical-align: middle;\n",
       "    }\n",
       "\n",
       "    .dataframe tbody tr th {\n",
       "        vertical-align: top;\n",
       "    }\n",
       "\n",
       "    .dataframe thead th {\n",
       "        text-align: right;\n",
       "    }\n",
       "</style>\n",
       "<table border=\"1\" class=\"dataframe\">\n",
       "  <thead>\n",
       "    <tr style=\"text-align: right;\">\n",
       "      <th></th>\n",
       "      <th>query1</th>\n",
       "      <th>query2</th>\n",
       "      <th>label</th>\n",
       "    </tr>\n",
       "  </thead>\n",
       "  <tbody>\n",
       "    <tr>\n",
       "      <th>0</th>\n",
       "      <td>谁有狂三这张高清的</td>\n",
       "      <td>这张高清图，谁有</td>\n",
       "      <td>0</td>\n",
       "    </tr>\n",
       "    <tr>\n",
       "      <th>1</th>\n",
       "      <td>英雄联盟什么英雄最好</td>\n",
       "      <td>英雄联盟最好英雄是什么</td>\n",
       "      <td>1</td>\n",
       "    </tr>\n",
       "    <tr>\n",
       "      <th>2</th>\n",
       "      <td>这是什么意思，被蹭网吗</td>\n",
       "      <td>我也是醉了，这是什么意思</td>\n",
       "      <td>0</td>\n",
       "    </tr>\n",
       "    <tr>\n",
       "      <th>3</th>\n",
       "      <td>现在有什么动画片好看呢？</td>\n",
       "      <td>现在有什么好看的动画片吗？</td>\n",
       "      <td>1</td>\n",
       "    </tr>\n",
       "    <tr>\n",
       "      <th>4</th>\n",
       "      <td>请问晶达电子厂现在的工资待遇怎么样要求有哪些</td>\n",
       "      <td>三星电子厂工资待遇怎么样啊</td>\n",
       "      <td>0</td>\n",
       "    </tr>\n",
       "    <tr>\n",
       "      <th>...</th>\n",
       "      <td>...</td>\n",
       "      <td>...</td>\n",
       "      <td>...</td>\n",
       "    </tr>\n",
       "    <tr>\n",
       "      <th>12495</th>\n",
       "      <td>微店怎么开？怎么做代理？</td>\n",
       "      <td>微店怎样代理</td>\n",
       "      <td>1</td>\n",
       "    </tr>\n",
       "    <tr>\n",
       "      <th>12496</th>\n",
       "      <td>小学科学三年级上</td>\n",
       "      <td>小学三年级科学</td>\n",
       "      <td>0</td>\n",
       "    </tr>\n",
       "    <tr>\n",
       "      <th>12497</th>\n",
       "      <td>冬眠是什么意思？</td>\n",
       "      <td>冬眠的意思是什么</td>\n",
       "      <td>1</td>\n",
       "    </tr>\n",
       "    <tr>\n",
       "      <th>12498</th>\n",
       "      <td>天猫有假货吗</td>\n",
       "      <td>天猫卖假货吗</td>\n",
       "      <td>0</td>\n",
       "    </tr>\n",
       "    <tr>\n",
       "      <th>12499</th>\n",
       "      <td>天兵天将是什么生肖？</td>\n",
       "      <td>天兵天将是指什么生肖</td>\n",
       "      <td>1</td>\n",
       "    </tr>\n",
       "  </tbody>\n",
       "</table>\n",
       "<p>12500 rows × 3 columns</p>\n",
       "</div>"
      ],
      "text/plain": [
       "                       query1         query2  label\n",
       "0                   谁有狂三这张高清的       这张高清图，谁有      0\n",
       "1                  英雄联盟什么英雄最好    英雄联盟最好英雄是什么      1\n",
       "2                 这是什么意思，被蹭网吗   我也是醉了，这是什么意思      0\n",
       "3                现在有什么动画片好看呢？  现在有什么好看的动画片吗？      1\n",
       "4      请问晶达电子厂现在的工资待遇怎么样要求有哪些  三星电子厂工资待遇怎么样啊      0\n",
       "...                       ...            ...    ...\n",
       "12495            微店怎么开？怎么做代理？         微店怎样代理      1\n",
       "12496                小学科学三年级上        小学三年级科学      0\n",
       "12497                冬眠是什么意思？       冬眠的意思是什么      1\n",
       "12498                  天猫有假货吗         天猫卖假货吗      0\n",
       "12499              天兵天将是什么生肖？     天兵天将是指什么生肖      1\n",
       "\n",
       "[12500 rows x 3 columns]"
      ]
     },
     "execution_count": 27,
     "metadata": {},
     "output_type": "execute_result"
    }
   ],
   "source": [
    "test"
   ]
  },
  {
   "cell_type": "code",
   "execution_count": 4,
   "id": "9b1b0288",
   "metadata": {},
   "outputs": [],
   "source": [
    "import torch\n",
    "from torch.utils.data import Dataset, DataLoader, TensorDataset\n",
    "import numpy as np\n",
    "import pandas as pd\n",
    "import random\n",
    "import re"
   ]
  },
  {
   "cell_type": "code",
   "execution_count": 10,
   "id": "5deaa321",
   "metadata": {},
   "outputs": [
    {
     "data": {
      "application/vnd.jupyter.widget-view+json": {
       "model_id": "6d94684b38b94601b14443e4cad94501",
       "version_major": 2,
       "version_minor": 0
      },
      "text/plain": [
       "Downloading (…)solve/main/vocab.txt:   0%|          | 0.00/232k [00:00<?, ?B/s]"
      ]
     },
     "metadata": {},
     "output_type": "display_data"
    },
    {
     "name": "stderr",
     "output_type": "stream",
     "text": [
      "G:\\anaconda\\envs\\pytorch\\lib\\site-packages\\huggingface_hub\\file_download.py:129: UserWarning: `huggingface_hub` cache-system uses symlinks by default to efficiently store duplicated files but your machine does not support them in C:\\Users\\muma\\.cache\\huggingface\\hub. Caching files will still work but in a degraded version that might require more space on your disk. This warning can be disabled by setting the `HF_HUB_DISABLE_SYMLINKS_WARNING` environment variable. For more details, see https://huggingface.co/docs/huggingface_hub/how-to-cache#limitations.\n",
      "To support symlinks on Windows, you either need to activate Developer Mode or to run Python as an administrator. In order to see activate developer mode, see this article: https://docs.microsoft.com/en-us/windows/apps/get-started/enable-your-device-for-development\n",
      "  warnings.warn(message)\n"
     ]
    },
    {
     "data": {
      "application/vnd.jupyter.widget-view+json": {
       "model_id": "4d5db2811c7b431eb01b63503bbff58a",
       "version_major": 2,
       "version_minor": 0
      },
      "text/plain": [
       "Downloading (…)okenizer_config.json:   0%|          | 0.00/28.0 [00:00<?, ?B/s]"
      ]
     },
     "metadata": {},
     "output_type": "display_data"
    },
    {
     "data": {
      "application/vnd.jupyter.widget-view+json": {
       "model_id": "7b135bae16d948df9c8196e7624411c4",
       "version_major": 2,
       "version_minor": 0
      },
      "text/plain": [
       "Downloading (…)lve/main/config.json:   0%|          | 0.00/570 [00:00<?, ?B/s]"
      ]
     },
     "metadata": {},
     "output_type": "display_data"
    },
    {
     "name": "stderr",
     "output_type": "stream",
     "text": [
      "Be aware, overflowing tokens are not returned for the setting you have chosen, i.e. sequence pairs with the 'longest_first' truncation strategy. So the returned list will always be empty even if some tokens have been removed.\n",
      "Be aware, overflowing tokens are not returned for the setting you have chosen, i.e. sequence pairs with the 'longest_first' truncation strategy. So the returned list will always be empty even if some tokens have been removed.\n",
      "Be aware, overflowing tokens are not returned for the setting you have chosen, i.e. sequence pairs with the 'longest_first' truncation strategy. So the returned list will always be empty even if some tokens have been removed.\n"
     ]
    }
   ],
   "source": [
    "from transformers import BertTokenizer\n",
    "tokenizer = BertTokenizer.from_pretrained('bert-base-uncased')\n",
    "train_encoding = tokenizer(list(train[\"query1\"]), list(train[\"query2\"]), \n",
    "                           truncation=True, padding=True, max_length=100)\n",
    "valid_encoding = tokenizer(list(valid[\"query1\"]), list(valid[\"query2\"]), \n",
    "                          truncation=True, padding=True, max_length=100)\n",
    "test_encoding = tokenizer(list(test[\"query1\"]), list(test[\"query2\"]), \n",
    "                          truncation=True, padding=True, max_length=100)"
   ]
  },
  {
   "cell_type": "code",
   "execution_count": 22,
   "id": "65fbf99a",
   "metadata": {},
   "outputs": [],
   "source": [
    "class BertDataset(Dataset):\n",
    "    def __init__(self, encodings, labels=None):\n",
    "        self.encodings = encodings\n",
    "        self.labels = labels\n",
    "        \n",
    "    def __getitem__(self, idx):\n",
    "        item = {key: torch.tensor(val[idx]) for key, val in self.encodings.items()}\n",
    "        if self.labels is not None:\n",
    "            item['label'] = torch.tensor(int(self.labels[idx]))\n",
    "        return item\n",
    "    \n",
    "    def __len__(self):\n",
    "        return len(self.encodings['input_ids'])"
   ]
  },
  {
   "cell_type": "code",
   "execution_count": 28,
   "id": "d85fe3d6",
   "metadata": {},
   "outputs": [],
   "source": [
    "train_dataset = BertDataset(train_encoding, list(train[\"label\"]))\n",
    "valid_dataset = BertDataset(valid_encoding, list(valid[\"label\"]))\n",
    "test_dataset = BertDataset(test_encoding, list(test[\"label\"]))"
   ]
  },
  {
   "cell_type": "code",
   "execution_count": 29,
   "id": "556fb3c1",
   "metadata": {},
   "outputs": [],
   "source": [
    "# 精度计算\n",
    "def flat_accuracy(preds, labels):\n",
    "    pred_flat = np.argmax(preds, axis=1).flatten()\n",
    "    labels_flat = labels.flatten()\n",
    "    return np.sum(pred_flat == labels_flat) / len(labels_flat)"
   ]
  },
  {
   "cell_type": "code",
   "execution_count": 31,
   "id": "f8196c5e",
   "metadata": {},
   "outputs": [
    {
     "data": {
      "application/vnd.jupyter.widget-view+json": {
       "model_id": "361bf904aec5483ba1e9255a54258ff5",
       "version_major": 2,
       "version_minor": 0
      },
      "text/plain": [
       "Downloading (…)\"pytorch_model.bin\";:   0%|          | 0.00/440M [00:00<?, ?B/s]"
      ]
     },
     "metadata": {},
     "output_type": "display_data"
    },
    {
     "name": "stderr",
     "output_type": "stream",
     "text": [
      "Some weights of the model checkpoint at bert-base-uncased were not used when initializing BertForNextSentencePrediction: ['cls.predictions.transform.LayerNorm.weight', 'cls.predictions.transform.dense.bias', 'cls.predictions.transform.LayerNorm.bias', 'cls.predictions.transform.dense.weight', 'cls.predictions.decoder.weight', 'cls.predictions.bias']\n",
      "- This IS expected if you are initializing BertForNextSentencePrediction from the checkpoint of a model trained on another task or with another architecture (e.g. initializing a BertForSequenceClassification model from a BertForPreTraining model).\n",
      "- This IS NOT expected if you are initializing BertForNextSentencePrediction from the checkpoint of a model that you expect to be exactly identical (initializing a BertForSequenceClassification model from a BertForSequenceClassification model).\n",
      "G:\\anaconda\\envs\\pytorch\\lib\\site-packages\\transformers\\optimization.py:310: FutureWarning: This implementation of AdamW is deprecated and will be removed in a future version. Use the PyTorch implementation torch.optim.AdamW instead, or set `no_deprecation_warning=True` to disable this warning\n",
      "  FutureWarning,\n"
     ]
    }
   ],
   "source": [
    "from transformers import BertForNextSentencePrediction, AdamW, get_linear_schedule_with_warmup\n",
    "model = BertForNextSentencePrediction.from_pretrained('bert-base-uncased')\n",
    "device = torch.device(\"cuda\" if torch.cuda.is_available() else \"cpu\")\n",
    "model.to(device)\n",
    "train_loader = DataLoader(train_dataset, batch_size=16, shuffle=True)\n",
    "valid_dataloader = DataLoader(valid_dataset, batch_size=16, shuffle=True)\n",
    "test_dataloader = DataLoader(test_dataset, batch_size=16, shuffle=True)\n",
    "optim = AdamW(model.parameters(), lr=2e-5)\n",
    "total_steps = len(train_loader) * 1\n",
    "scheduler = get_linear_schedule_with_warmup(optim, \n",
    "                                            num_warmup_steps = 0, # Default value in run_glue.py\n",
    "                                            num_training_steps = total_steps)"
   ]
  },
  {
   "cell_type": "code",
   "execution_count": 37,
   "id": "0ca144c9",
   "metadata": {},
   "outputs": [
    {
     "name": "stdout",
     "output_type": "stream",
     "text": [
      "------------Epoch: 0 ----------------\n"
     ]
    },
    {
     "data": {
      "application/vnd.jupyter.widget-view+json": {
       "model_id": "08258e4e235f40abaaa0deaaed9cbc51",
       "version_major": 2,
       "version_minor": 0
      },
      "text/plain": [
       "  0%|          | 0/14923 [00:00<?, ?it/s]"
      ]
     },
     "metadata": {},
     "output_type": "display_data"
    },
    {
     "name": "stdout",
     "output_type": "stream",
     "text": [
      "epoth: 0, iter_num: 100, loss: 0.4770, 0.67%\n",
      "epoth: 0, iter_num: 200, loss: 0.3446, 1.34%\n",
      "epoth: 0, iter_num: 300, loss: 0.5103, 2.01%\n",
      "epoth: 0, iter_num: 400, loss: 0.5488, 2.68%\n",
      "epoth: 0, iter_num: 500, loss: 0.2589, 3.35%\n",
      "epoth: 0, iter_num: 600, loss: 0.3024, 4.02%\n",
      "epoth: 0, iter_num: 700, loss: 0.4811, 4.69%\n",
      "epoth: 0, iter_num: 800, loss: 0.2117, 5.36%\n",
      "epoth: 0, iter_num: 900, loss: 0.3745, 6.03%\n",
      "epoth: 0, iter_num: 1000, loss: 0.7474, 6.70%\n",
      "epoth: 0, iter_num: 1100, loss: 0.3683, 7.37%\n",
      "epoth: 0, iter_num: 1200, loss: 0.4584, 8.04%\n",
      "epoth: 0, iter_num: 1300, loss: 0.6007, 8.71%\n",
      "epoth: 0, iter_num: 1400, loss: 0.4657, 9.38%\n",
      "epoth: 0, iter_num: 1500, loss: 0.5084, 10.05%\n",
      "epoth: 0, iter_num: 1600, loss: 0.3515, 10.72%\n",
      "epoth: 0, iter_num: 1700, loss: 0.6481, 11.39%\n",
      "epoth: 0, iter_num: 1800, loss: 0.2248, 12.06%\n",
      "epoth: 0, iter_num: 1900, loss: 0.2088, 12.73%\n",
      "epoth: 0, iter_num: 2000, loss: 0.4435, 13.40%\n",
      "start validating...\n"
     ]
    },
    {
     "data": {
      "application/vnd.jupyter.widget-view+json": {
       "model_id": "5a249973ffc64c4794b56fa025fd7839",
       "version_major": 2,
       "version_minor": 0
      },
      "text/plain": [
       "  0%|          | 0/551 [00:00<?, ?it/s]"
      ]
     },
     "metadata": {},
     "output_type": "display_data"
    },
    {
     "name": "stdout",
     "output_type": "stream",
     "text": [
      "Accuracy: 0.6326\n",
      "Average testing loss: 0.7390\n",
      "-------------------------------\n",
      "epoth: 0, iter_num: 2100, loss: 0.5067, 14.07%\n",
      "epoth: 0, iter_num: 2200, loss: 0.3252, 14.74%\n",
      "epoth: 0, iter_num: 2300, loss: 0.2887, 15.41%\n",
      "epoth: 0, iter_num: 2400, loss: 0.4167, 16.08%\n",
      "epoth: 0, iter_num: 2500, loss: 0.3514, 16.75%\n",
      "epoth: 0, iter_num: 2600, loss: 0.6134, 17.42%\n",
      "epoth: 0, iter_num: 2700, loss: 0.3206, 18.09%\n",
      "epoth: 0, iter_num: 2800, loss: 0.5279, 18.76%\n",
      "epoth: 0, iter_num: 2900, loss: 0.4058, 19.43%\n",
      "epoth: 0, iter_num: 3000, loss: 0.6448, 20.10%\n",
      "epoth: 0, iter_num: 3100, loss: 0.2499, 20.77%\n",
      "epoth: 0, iter_num: 3200, loss: 0.3799, 21.44%\n",
      "epoth: 0, iter_num: 3300, loss: 0.3192, 22.11%\n",
      "epoth: 0, iter_num: 3400, loss: 0.5416, 22.78%\n",
      "epoth: 0, iter_num: 3500, loss: 0.5221, 23.45%\n",
      "epoth: 0, iter_num: 3600, loss: 0.5171, 24.12%\n",
      "epoth: 0, iter_num: 3700, loss: 0.5124, 24.79%\n",
      "epoth: 0, iter_num: 3800, loss: 0.2734, 25.46%\n",
      "epoth: 0, iter_num: 3900, loss: 0.2892, 26.13%\n",
      "epoth: 0, iter_num: 4000, loss: 0.4584, 26.80%\n",
      "start validating...\n"
     ]
    },
    {
     "data": {
      "application/vnd.jupyter.widget-view+json": {
       "model_id": "7fdf50228dbe4db088fa135f6b184768",
       "version_major": 2,
       "version_minor": 0
      },
      "text/plain": [
       "  0%|          | 0/551 [00:00<?, ?it/s]"
      ]
     },
     "metadata": {},
     "output_type": "display_data"
    },
    {
     "name": "stdout",
     "output_type": "stream",
     "text": [
      "Accuracy: 0.6386\n",
      "Average testing loss: 0.6705\n",
      "-------------------------------\n",
      "epoth: 0, iter_num: 4100, loss: 0.4131, 27.47%\n",
      "epoth: 0, iter_num: 4200, loss: 1.1143, 28.14%\n",
      "epoth: 0, iter_num: 4300, loss: 0.5278, 28.81%\n",
      "epoth: 0, iter_num: 4400, loss: 0.5171, 29.48%\n",
      "epoth: 0, iter_num: 4500, loss: 0.2128, 30.15%\n",
      "epoth: 0, iter_num: 4600, loss: 0.4496, 30.82%\n",
      "epoth: 0, iter_num: 4700, loss: 0.3541, 31.50%\n",
      "epoth: 0, iter_num: 4800, loss: 0.6367, 32.17%\n",
      "epoth: 0, iter_num: 4900, loss: 0.5333, 32.84%\n",
      "epoth: 0, iter_num: 5000, loss: 0.4099, 33.51%\n",
      "epoth: 0, iter_num: 5100, loss: 0.5316, 34.18%\n",
      "epoth: 0, iter_num: 5200, loss: 0.4185, 34.85%\n",
      "epoth: 0, iter_num: 5300, loss: 0.4159, 35.52%\n",
      "epoth: 0, iter_num: 5400, loss: 0.3114, 36.19%\n",
      "epoth: 0, iter_num: 5500, loss: 0.1921, 36.86%\n",
      "epoth: 0, iter_num: 5600, loss: 0.3504, 37.53%\n",
      "epoth: 0, iter_num: 5700, loss: 0.3621, 38.20%\n",
      "epoth: 0, iter_num: 5800, loss: 0.3592, 38.87%\n",
      "epoth: 0, iter_num: 5900, loss: 0.4971, 39.54%\n",
      "epoth: 0, iter_num: 6000, loss: 0.3254, 40.21%\n",
      "start validating...\n"
     ]
    },
    {
     "data": {
      "application/vnd.jupyter.widget-view+json": {
       "model_id": "09de5901e36b4b0c9a83488feaa01dbe",
       "version_major": 2,
       "version_minor": 0
      },
      "text/plain": [
       "  0%|          | 0/551 [00:00<?, ?it/s]"
      ]
     },
     "metadata": {},
     "output_type": "display_data"
    },
    {
     "name": "stdout",
     "output_type": "stream",
     "text": [
      "Accuracy: 0.6525\n",
      "Average testing loss: 0.6698\n",
      "-------------------------------\n",
      "epoth: 0, iter_num: 6100, loss: 0.4936, 40.88%\n",
      "epoth: 0, iter_num: 6200, loss: 0.4339, 41.55%\n",
      "epoth: 0, iter_num: 6300, loss: 0.5967, 42.22%\n",
      "epoth: 0, iter_num: 6400, loss: 0.4963, 42.89%\n",
      "epoth: 0, iter_num: 6500, loss: 0.4942, 43.56%\n",
      "epoth: 0, iter_num: 6600, loss: 0.3824, 44.23%\n",
      "epoth: 0, iter_num: 6700, loss: 0.5544, 44.90%\n",
      "epoth: 0, iter_num: 6800, loss: 0.4935, 45.57%\n",
      "epoth: 0, iter_num: 6900, loss: 0.3454, 46.24%\n",
      "epoth: 0, iter_num: 7000, loss: 0.5122, 46.91%\n",
      "epoth: 0, iter_num: 7100, loss: 0.7890, 47.58%\n",
      "epoth: 0, iter_num: 7200, loss: 0.3497, 48.25%\n",
      "epoth: 0, iter_num: 7300, loss: 0.3689, 48.92%\n",
      "epoth: 0, iter_num: 7400, loss: 0.3096, 49.59%\n",
      "epoth: 0, iter_num: 7500, loss: 0.3764, 50.26%\n",
      "epoth: 0, iter_num: 7600, loss: 0.3457, 50.93%\n",
      "epoth: 0, iter_num: 7700, loss: 0.3192, 51.60%\n",
      "epoth: 0, iter_num: 7800, loss: 0.5126, 52.27%\n",
      "epoth: 0, iter_num: 7900, loss: 0.5002, 52.94%\n",
      "epoth: 0, iter_num: 8000, loss: 0.7126, 53.61%\n",
      "start validating...\n"
     ]
    },
    {
     "data": {
      "application/vnd.jupyter.widget-view+json": {
       "model_id": "7a921f4970974704bf2ba787206173f5",
       "version_major": 2,
       "version_minor": 0
      },
      "text/plain": [
       "  0%|          | 0/551 [00:00<?, ?it/s]"
      ]
     },
     "metadata": {},
     "output_type": "display_data"
    },
    {
     "name": "stdout",
     "output_type": "stream",
     "text": [
      "Accuracy: 0.6665\n",
      "Average testing loss: 0.6551\n",
      "-------------------------------\n",
      "epoth: 0, iter_num: 8100, loss: 0.6251, 54.28%\n",
      "epoth: 0, iter_num: 8200, loss: 0.4665, 54.95%\n",
      "epoth: 0, iter_num: 8300, loss: 0.1926, 55.62%\n",
      "epoth: 0, iter_num: 8400, loss: 0.2826, 56.29%\n",
      "epoth: 0, iter_num: 8500, loss: 0.4603, 56.96%\n",
      "epoth: 0, iter_num: 8600, loss: 0.4957, 57.63%\n",
      "epoth: 0, iter_num: 8700, loss: 0.6433, 58.30%\n",
      "epoth: 0, iter_num: 8800, loss: 0.3475, 58.97%\n",
      "epoth: 0, iter_num: 8900, loss: 0.2515, 59.64%\n",
      "epoth: 0, iter_num: 9000, loss: 0.8815, 60.31%\n",
      "epoth: 0, iter_num: 9100, loss: 0.7166, 60.98%\n",
      "epoth: 0, iter_num: 9200, loss: 0.5350, 61.65%\n",
      "epoth: 0, iter_num: 9300, loss: 0.8240, 62.32%\n",
      "epoth: 0, iter_num: 9400, loss: 0.5438, 62.99%\n",
      "epoth: 0, iter_num: 9500, loss: 0.5165, 63.66%\n",
      "epoth: 0, iter_num: 9600, loss: 0.2897, 64.33%\n",
      "epoth: 0, iter_num: 9700, loss: 0.3862, 65.00%\n",
      "epoth: 0, iter_num: 9800, loss: 0.5518, 65.67%\n",
      "epoth: 0, iter_num: 9900, loss: 0.5883, 66.34%\n",
      "epoth: 0, iter_num: 10000, loss: 0.4223, 67.01%\n",
      "start validating...\n"
     ]
    },
    {
     "data": {
      "application/vnd.jupyter.widget-view+json": {
       "model_id": "6cfbeb9765294f9bbcb4ac20f877a8ed",
       "version_major": 2,
       "version_minor": 0
      },
      "text/plain": [
       "  0%|          | 0/551 [00:00<?, ?it/s]"
      ]
     },
     "metadata": {},
     "output_type": "display_data"
    },
    {
     "name": "stdout",
     "output_type": "stream",
     "text": [
      "Accuracy: 0.6600\n",
      "Average testing loss: 0.7295\n",
      "-------------------------------\n",
      "epoth: 0, iter_num: 10100, loss: 0.4484, 67.68%\n",
      "epoth: 0, iter_num: 10200, loss: 0.3196, 68.35%\n",
      "epoth: 0, iter_num: 10300, loss: 0.3210, 69.02%\n",
      "epoth: 0, iter_num: 10400, loss: 0.4871, 69.69%\n",
      "epoth: 0, iter_num: 10500, loss: 0.3885, 70.36%\n",
      "epoth: 0, iter_num: 10600, loss: 0.5365, 71.03%\n",
      "epoth: 0, iter_num: 10700, loss: 0.4269, 71.70%\n",
      "epoth: 0, iter_num: 10800, loss: 0.2700, 72.37%\n",
      "epoth: 0, iter_num: 10900, loss: 0.5478, 73.04%\n",
      "epoth: 0, iter_num: 11000, loss: 0.5074, 73.71%\n",
      "epoth: 0, iter_num: 11100, loss: 0.4258, 74.38%\n",
      "epoth: 0, iter_num: 11200, loss: 0.4690, 75.05%\n",
      "epoth: 0, iter_num: 11300, loss: 0.5836, 75.72%\n",
      "epoth: 0, iter_num: 11400, loss: 0.4232, 76.39%\n",
      "epoth: 0, iter_num: 11500, loss: 0.2251, 77.06%\n",
      "epoth: 0, iter_num: 11600, loss: 0.4410, 77.73%\n",
      "epoth: 0, iter_num: 11700, loss: 0.6511, 78.40%\n",
      "epoth: 0, iter_num: 11800, loss: 0.3957, 79.07%\n",
      "epoth: 0, iter_num: 11900, loss: 0.2604, 79.74%\n",
      "epoth: 0, iter_num: 12000, loss: 0.9778, 80.41%\n",
      "start validating...\n"
     ]
    },
    {
     "data": {
      "application/vnd.jupyter.widget-view+json": {
       "model_id": "1d5ef2d4b810405a99c7a93be52c7815",
       "version_major": 2,
       "version_minor": 0
      },
      "text/plain": [
       "  0%|          | 0/551 [00:00<?, ?it/s]"
      ]
     },
     "metadata": {},
     "output_type": "display_data"
    },
    {
     "name": "stdout",
     "output_type": "stream",
     "text": [
      "Accuracy: 0.6659\n",
      "Average testing loss: 0.6832\n",
      "-------------------------------\n",
      "epoth: 0, iter_num: 12100, loss: 0.4461, 81.08%\n",
      "epoth: 0, iter_num: 12200, loss: 0.6147, 81.75%\n",
      "epoth: 0, iter_num: 12300, loss: 0.2431, 82.42%\n",
      "epoth: 0, iter_num: 12400, loss: 0.7061, 83.09%\n",
      "epoth: 0, iter_num: 12500, loss: 0.3306, 83.76%\n",
      "epoth: 0, iter_num: 12600, loss: 0.1999, 84.43%\n",
      "epoth: 0, iter_num: 12700, loss: 0.4563, 85.10%\n",
      "epoth: 0, iter_num: 12800, loss: 0.6702, 85.77%\n",
      "epoth: 0, iter_num: 12900, loss: 0.3742, 86.44%\n",
      "epoth: 0, iter_num: 13000, loss: 0.4320, 87.11%\n",
      "epoth: 0, iter_num: 13100, loss: 0.5332, 87.78%\n",
      "epoth: 0, iter_num: 13200, loss: 0.3181, 88.45%\n",
      "epoth: 0, iter_num: 13300, loss: 0.6247, 89.12%\n",
      "epoth: 0, iter_num: 13400, loss: 0.6180, 89.79%\n",
      "epoth: 0, iter_num: 13500, loss: 0.4005, 90.46%\n",
      "epoth: 0, iter_num: 13600, loss: 0.3916, 91.13%\n",
      "epoth: 0, iter_num: 13700, loss: 0.5899, 91.80%\n",
      "epoth: 0, iter_num: 13800, loss: 0.3105, 92.47%\n",
      "epoth: 0, iter_num: 13900, loss: 0.1740, 93.14%\n",
      "epoth: 0, iter_num: 14000, loss: 0.3154, 93.81%\n",
      "start validating...\n"
     ]
    },
    {
     "data": {
      "application/vnd.jupyter.widget-view+json": {
       "model_id": "a40d987fbec149db981d5b39a26b4ef5",
       "version_major": 2,
       "version_minor": 0
      },
      "text/plain": [
       "  0%|          | 0/551 [00:00<?, ?it/s]"
      ]
     },
     "metadata": {},
     "output_type": "display_data"
    },
    {
     "name": "stdout",
     "output_type": "stream",
     "text": [
      "Accuracy: 0.6607\n",
      "Average testing loss: 0.6923\n",
      "-------------------------------\n",
      "epoth: 0, iter_num: 14100, loss: 0.4624, 94.49%\n",
      "epoth: 0, iter_num: 14200, loss: 0.2329, 95.16%\n",
      "epoth: 0, iter_num: 14300, loss: 0.4855, 95.83%\n",
      "epoth: 0, iter_num: 14400, loss: 0.2863, 96.50%\n",
      "epoth: 0, iter_num: 14500, loss: 0.4529, 97.17%\n",
      "epoth: 0, iter_num: 14600, loss: 0.1956, 97.84%\n",
      "epoth: 0, iter_num: 14700, loss: 0.4693, 98.51%\n",
      "epoth: 0, iter_num: 14800, loss: 0.1976, 99.18%\n",
      "epoth: 0, iter_num: 14900, loss: 0.5175, 99.85%\n",
      "Epoch: 0, Average training loss: 0.4563\n",
      "------------Epoch: 1 ----------------\n"
     ]
    },
    {
     "data": {
      "application/vnd.jupyter.widget-view+json": {
       "model_id": "34049166963f40ab8f310fb5e56cbf08",
       "version_major": 2,
       "version_minor": 0
      },
      "text/plain": [
       "  0%|          | 0/14923 [00:00<?, ?it/s]"
      ]
     },
     "metadata": {},
     "output_type": "display_data"
    },
    {
     "name": "stdout",
     "output_type": "stream",
     "text": [
      "epoth: 1, iter_num: 100, loss: 0.4583, 0.67%\n",
      "epoth: 1, iter_num: 200, loss: 0.1788, 1.34%\n",
      "epoth: 1, iter_num: 300, loss: 0.4183, 2.01%\n",
      "epoth: 1, iter_num: 400, loss: 0.5604, 2.68%\n",
      "epoth: 1, iter_num: 500, loss: 0.7020, 3.35%\n",
      "epoth: 1, iter_num: 600, loss: 0.5439, 4.02%\n",
      "epoth: 1, iter_num: 700, loss: 0.2564, 4.69%\n",
      "epoth: 1, iter_num: 800, loss: 0.3430, 5.36%\n",
      "epoth: 1, iter_num: 900, loss: 0.5363, 6.03%\n",
      "epoth: 1, iter_num: 1000, loss: 0.5805, 6.70%\n",
      "epoth: 1, iter_num: 1100, loss: 0.3551, 7.37%\n",
      "epoth: 1, iter_num: 1200, loss: 0.3437, 8.04%\n",
      "epoth: 1, iter_num: 1300, loss: 0.4601, 8.71%\n",
      "epoth: 1, iter_num: 1400, loss: 0.5684, 9.38%\n",
      "epoth: 1, iter_num: 1500, loss: 0.3458, 10.05%\n",
      "epoth: 1, iter_num: 1600, loss: 0.4877, 10.72%\n",
      "epoth: 1, iter_num: 1700, loss: 0.3399, 11.39%\n",
      "epoth: 1, iter_num: 1800, loss: 0.5647, 12.06%\n",
      "epoth: 1, iter_num: 1900, loss: 0.3046, 12.73%\n",
      "epoth: 1, iter_num: 2000, loss: 0.4021, 13.40%\n",
      "start validating...\n"
     ]
    },
    {
     "data": {
      "application/vnd.jupyter.widget-view+json": {
       "model_id": "50517b0226b14da798cbbac882273809",
       "version_major": 2,
       "version_minor": 0
      },
      "text/plain": [
       "  0%|          | 0/551 [00:00<?, ?it/s]"
      ]
     },
     "metadata": {},
     "output_type": "display_data"
    },
    {
     "name": "stdout",
     "output_type": "stream",
     "text": [
      "Accuracy: 0.6623\n",
      "Average testing loss: 0.6906\n",
      "-------------------------------\n",
      "epoth: 1, iter_num: 2100, loss: 0.5105, 14.07%\n",
      "epoth: 1, iter_num: 2200, loss: 0.2062, 14.74%\n",
      "epoth: 1, iter_num: 2300, loss: 0.6568, 15.41%\n",
      "epoth: 1, iter_num: 2400, loss: 0.5795, 16.08%\n",
      "epoth: 1, iter_num: 2500, loss: 0.3263, 16.75%\n",
      "epoth: 1, iter_num: 2600, loss: 0.4126, 17.42%\n",
      "epoth: 1, iter_num: 2700, loss: 0.3250, 18.09%\n",
      "epoth: 1, iter_num: 2800, loss: 0.5757, 18.76%\n",
      "epoth: 1, iter_num: 2900, loss: 0.2883, 19.43%\n",
      "epoth: 1, iter_num: 3000, loss: 0.3048, 20.10%\n",
      "epoth: 1, iter_num: 3100, loss: 0.6363, 20.77%\n",
      "epoth: 1, iter_num: 3200, loss: 0.2108, 21.44%\n",
      "epoth: 1, iter_num: 3300, loss: 0.4729, 22.11%\n",
      "epoth: 1, iter_num: 3400, loss: 0.7148, 22.78%\n",
      "epoth: 1, iter_num: 3500, loss: 0.3465, 23.45%\n",
      "epoth: 1, iter_num: 3600, loss: 0.3879, 24.12%\n",
      "epoth: 1, iter_num: 3700, loss: 0.5521, 24.79%\n",
      "epoth: 1, iter_num: 3800, loss: 0.4358, 25.46%\n",
      "epoth: 1, iter_num: 3900, loss: 0.4576, 26.13%\n",
      "epoth: 1, iter_num: 4000, loss: 0.2199, 26.80%\n",
      "start validating...\n"
     ]
    },
    {
     "data": {
      "application/vnd.jupyter.widget-view+json": {
       "model_id": "98ef763ad5074aaf9a81cd022d904e9b",
       "version_major": 2,
       "version_minor": 0
      },
      "text/plain": [
       "  0%|          | 0/551 [00:00<?, ?it/s]"
      ]
     },
     "metadata": {},
     "output_type": "display_data"
    },
    {
     "name": "stdout",
     "output_type": "stream",
     "text": [
      "Accuracy: 0.6623\n",
      "Average testing loss: 0.6907\n",
      "-------------------------------\n",
      "epoth: 1, iter_num: 4100, loss: 0.3103, 27.47%\n",
      "epoth: 1, iter_num: 4200, loss: 0.5899, 28.14%\n",
      "epoth: 1, iter_num: 4300, loss: 0.4618, 28.81%\n",
      "epoth: 1, iter_num: 4400, loss: 0.4518, 29.48%\n",
      "epoth: 1, iter_num: 4500, loss: 0.1667, 30.15%\n",
      "epoth: 1, iter_num: 4600, loss: 0.7979, 30.82%\n",
      "epoth: 1, iter_num: 4700, loss: 0.5755, 31.50%\n",
      "epoth: 1, iter_num: 4800, loss: 0.4325, 32.17%\n",
      "epoth: 1, iter_num: 4900, loss: 0.6195, 32.84%\n",
      "epoth: 1, iter_num: 5000, loss: 0.1768, 33.51%\n",
      "epoth: 1, iter_num: 5100, loss: 0.3167, 34.18%\n",
      "epoth: 1, iter_num: 5200, loss: 0.4819, 34.85%\n",
      "epoth: 1, iter_num: 5300, loss: 0.4183, 35.52%\n",
      "epoth: 1, iter_num: 5400, loss: 0.4445, 36.19%\n",
      "epoth: 1, iter_num: 5500, loss: 0.3647, 36.86%\n",
      "epoth: 1, iter_num: 5600, loss: 0.3019, 37.53%\n",
      "epoth: 1, iter_num: 5700, loss: 0.6440, 38.20%\n",
      "epoth: 1, iter_num: 5800, loss: 0.6556, 38.87%\n",
      "epoth: 1, iter_num: 5900, loss: 0.4550, 39.54%\n",
      "epoth: 1, iter_num: 6000, loss: 0.2404, 40.21%\n",
      "start validating...\n"
     ]
    },
    {
     "data": {
      "application/vnd.jupyter.widget-view+json": {
       "model_id": "b5986f95f3f347c68edcb6d9537c4f12",
       "version_major": 2,
       "version_minor": 0
      },
      "text/plain": [
       "  0%|          | 0/551 [00:00<?, ?it/s]"
      ]
     },
     "metadata": {},
     "output_type": "display_data"
    },
    {
     "name": "stdout",
     "output_type": "stream",
     "text": [
      "Accuracy: 0.6623\n",
      "Average testing loss: 0.6906\n",
      "-------------------------------\n",
      "epoth: 1, iter_num: 6100, loss: 0.2769, 40.88%\n",
      "epoth: 1, iter_num: 6200, loss: 0.8064, 41.55%\n",
      "epoth: 1, iter_num: 6300, loss: 0.3305, 42.22%\n",
      "epoth: 1, iter_num: 6400, loss: 0.7773, 42.89%\n",
      "epoth: 1, iter_num: 6500, loss: 0.4705, 43.56%\n",
      "epoth: 1, iter_num: 6600, loss: 0.3473, 44.23%\n",
      "epoth: 1, iter_num: 6700, loss: 0.4288, 44.90%\n",
      "epoth: 1, iter_num: 6800, loss: 0.2947, 45.57%\n",
      "epoth: 1, iter_num: 6900, loss: 0.3667, 46.24%\n",
      "epoth: 1, iter_num: 7000, loss: 0.2845, 46.91%\n",
      "epoth: 1, iter_num: 7100, loss: 0.4927, 47.58%\n",
      "epoth: 1, iter_num: 7200, loss: 0.3802, 48.25%\n",
      "epoth: 1, iter_num: 7300, loss: 0.3839, 48.92%\n",
      "epoth: 1, iter_num: 7400, loss: 0.3932, 49.59%\n",
      "epoth: 1, iter_num: 7500, loss: 0.3669, 50.26%\n",
      "epoth: 1, iter_num: 7600, loss: 0.4254, 50.93%\n",
      "epoth: 1, iter_num: 7700, loss: 0.2945, 51.60%\n",
      "epoth: 1, iter_num: 7800, loss: 0.3260, 52.27%\n",
      "epoth: 1, iter_num: 7900, loss: 0.6517, 52.94%\n",
      "epoth: 1, iter_num: 8000, loss: 0.4082, 53.61%\n",
      "start validating...\n"
     ]
    },
    {
     "data": {
      "application/vnd.jupyter.widget-view+json": {
       "model_id": "e3ee8dffc2934db2be8fa9bf3f7fca06",
       "version_major": 2,
       "version_minor": 0
      },
      "text/plain": [
       "  0%|          | 0/551 [00:00<?, ?it/s]"
      ]
     },
     "metadata": {},
     "output_type": "display_data"
    },
    {
     "name": "stdout",
     "output_type": "stream",
     "text": [
      "Accuracy: 0.6623\n",
      "Average testing loss: 0.6909\n",
      "-------------------------------\n",
      "epoth: 1, iter_num: 8100, loss: 0.2764, 54.28%\n",
      "epoth: 1, iter_num: 8200, loss: 0.3244, 54.95%\n",
      "epoth: 1, iter_num: 8300, loss: 0.3972, 55.62%\n",
      "epoth: 1, iter_num: 8400, loss: 0.2501, 56.29%\n",
      "epoth: 1, iter_num: 8500, loss: 0.4541, 56.96%\n",
      "epoth: 1, iter_num: 8600, loss: 0.3528, 57.63%\n",
      "epoth: 1, iter_num: 8700, loss: 0.2288, 58.30%\n",
      "epoth: 1, iter_num: 8800, loss: 0.4839, 58.97%\n",
      "epoth: 1, iter_num: 8900, loss: 0.3158, 59.64%\n",
      "epoth: 1, iter_num: 9000, loss: 0.3193, 60.31%\n",
      "epoth: 1, iter_num: 9100, loss: 0.4661, 60.98%\n",
      "epoth: 1, iter_num: 9200, loss: 0.4522, 61.65%\n",
      "epoth: 1, iter_num: 9300, loss: 0.2321, 62.32%\n",
      "epoth: 1, iter_num: 9400, loss: 0.2995, 62.99%\n",
      "epoth: 1, iter_num: 9500, loss: 0.4912, 63.66%\n",
      "epoth: 1, iter_num: 9600, loss: 0.8562, 64.33%\n",
      "epoth: 1, iter_num: 9700, loss: 0.3232, 65.00%\n",
      "epoth: 1, iter_num: 9800, loss: 0.3940, 65.67%\n",
      "epoth: 1, iter_num: 9900, loss: 0.6963, 66.34%\n",
      "epoth: 1, iter_num: 10000, loss: 0.6790, 67.01%\n",
      "start validating...\n"
     ]
    },
    {
     "data": {
      "application/vnd.jupyter.widget-view+json": {
       "model_id": "286084faddfd4c818ed7ec8757bfa98d",
       "version_major": 2,
       "version_minor": 0
      },
      "text/plain": [
       "  0%|          | 0/551 [00:00<?, ?it/s]"
      ]
     },
     "metadata": {},
     "output_type": "display_data"
    },
    {
     "name": "stdout",
     "output_type": "stream",
     "text": [
      "Accuracy: 0.6615\n",
      "Average testing loss: 0.6912\n",
      "-------------------------------\n",
      "epoth: 1, iter_num: 10100, loss: 0.2770, 67.68%\n",
      "epoth: 1, iter_num: 10200, loss: 0.6129, 68.35%\n",
      "epoth: 1, iter_num: 10300, loss: 0.3995, 69.02%\n",
      "epoth: 1, iter_num: 10400, loss: 0.3941, 69.69%\n",
      "epoth: 1, iter_num: 10500, loss: 0.1320, 70.36%\n",
      "epoth: 1, iter_num: 10600, loss: 0.5397, 71.03%\n",
      "epoth: 1, iter_num: 10700, loss: 0.3295, 71.70%\n",
      "epoth: 1, iter_num: 10800, loss: 0.3763, 72.37%\n",
      "epoth: 1, iter_num: 10900, loss: 0.5937, 73.04%\n",
      "epoth: 1, iter_num: 11000, loss: 0.3672, 73.71%\n",
      "epoth: 1, iter_num: 11100, loss: 0.3007, 74.38%\n",
      "epoth: 1, iter_num: 11200, loss: 0.5849, 75.05%\n",
      "epoth: 1, iter_num: 11300, loss: 0.2548, 75.72%\n",
      "epoth: 1, iter_num: 11400, loss: 0.4279, 76.39%\n",
      "epoth: 1, iter_num: 11500, loss: 0.4964, 77.06%\n",
      "epoth: 1, iter_num: 11600, loss: 0.4257, 77.73%\n",
      "epoth: 1, iter_num: 11700, loss: 0.7598, 78.40%\n",
      "epoth: 1, iter_num: 11800, loss: 0.3319, 79.07%\n",
      "epoth: 1, iter_num: 11900, loss: 0.2025, 79.74%\n",
      "epoth: 1, iter_num: 12000, loss: 0.3431, 80.41%\n",
      "start validating...\n"
     ]
    },
    {
     "data": {
      "application/vnd.jupyter.widget-view+json": {
       "model_id": "9fc77d1e291040b88586ddfdd9952f7c",
       "version_major": 2,
       "version_minor": 0
      },
      "text/plain": [
       "  0%|          | 0/551 [00:00<?, ?it/s]"
      ]
     },
     "metadata": {},
     "output_type": "display_data"
    },
    {
     "name": "stdout",
     "output_type": "stream",
     "text": [
      "Accuracy: 0.6623\n",
      "Average testing loss: 0.6905\n",
      "-------------------------------\n",
      "epoth: 1, iter_num: 12100, loss: 0.1745, 81.08%\n",
      "epoth: 1, iter_num: 12200, loss: 0.3585, 81.75%\n",
      "epoth: 1, iter_num: 12300, loss: 0.3248, 82.42%\n",
      "epoth: 1, iter_num: 12400, loss: 0.2921, 83.09%\n",
      "epoth: 1, iter_num: 12500, loss: 0.3009, 83.76%\n",
      "epoth: 1, iter_num: 12600, loss: 0.3824, 84.43%\n",
      "epoth: 1, iter_num: 12700, loss: 0.4865, 85.10%\n",
      "epoth: 1, iter_num: 12800, loss: 0.3900, 85.77%\n",
      "epoth: 1, iter_num: 12900, loss: 0.3494, 86.44%\n",
      "epoth: 1, iter_num: 13000, loss: 0.7520, 87.11%\n",
      "epoth: 1, iter_num: 13100, loss: 0.4261, 87.78%\n",
      "epoth: 1, iter_num: 13200, loss: 0.4549, 88.45%\n",
      "epoth: 1, iter_num: 13300, loss: 0.6242, 89.12%\n",
      "epoth: 1, iter_num: 13400, loss: 0.5382, 89.79%\n",
      "epoth: 1, iter_num: 13500, loss: 0.2922, 90.46%\n",
      "epoth: 1, iter_num: 13600, loss: 0.4296, 91.13%\n",
      "epoth: 1, iter_num: 13700, loss: 0.5860, 91.80%\n",
      "epoth: 1, iter_num: 13800, loss: 0.2475, 92.47%\n",
      "epoth: 1, iter_num: 13900, loss: 0.5761, 93.14%\n",
      "epoth: 1, iter_num: 14000, loss: 0.4053, 93.81%\n",
      "start validating...\n"
     ]
    },
    {
     "data": {
      "application/vnd.jupyter.widget-view+json": {
       "model_id": "8795499b159d40a1a77fe1e44acf61de",
       "version_major": 2,
       "version_minor": 0
      },
      "text/plain": [
       "  0%|          | 0/551 [00:00<?, ?it/s]"
      ]
     },
     "metadata": {},
     "output_type": "display_data"
    },
    {
     "name": "stdout",
     "output_type": "stream",
     "text": [
      "Accuracy: 0.6623\n",
      "Average testing loss: 0.6905\n",
      "-------------------------------\n",
      "epoth: 1, iter_num: 14100, loss: 0.3787, 94.49%\n",
      "epoth: 1, iter_num: 14200, loss: 0.5444, 95.16%\n",
      "epoth: 1, iter_num: 14300, loss: 0.5031, 95.83%\n",
      "epoth: 1, iter_num: 14400, loss: 0.2669, 96.50%\n",
      "epoth: 1, iter_num: 14500, loss: 0.2130, 97.17%\n",
      "epoth: 1, iter_num: 14600, loss: 0.4135, 97.84%\n",
      "epoth: 1, iter_num: 14700, loss: 0.4612, 98.51%\n",
      "epoth: 1, iter_num: 14800, loss: 0.1833, 99.18%\n",
      "epoth: 1, iter_num: 14900, loss: 0.3405, 99.85%\n",
      "Epoch: 1, Average training loss: 0.4236\n"
     ]
    }
   ],
   "source": [
    "# 训练函数\n",
    "def train():\n",
    "    model.train()\n",
    "    total_train_loss = 0\n",
    "    iter_num = 0\n",
    "    total_iter = len(train_loader)\n",
    "    best_accuracy = 0\n",
    "    for batch in tqdm(train_loader):\n",
    "        # 正向传播\n",
    "        optim.zero_grad()\n",
    "        input_ids = batch['input_ids'].to(device)\n",
    "        attention_mask = batch['attention_mask'].to(device)\n",
    "        labels = batch['label'].to(device)\n",
    "        outputs = model(input_ids, attention_mask=attention_mask, labels=labels)\n",
    "        loss = outputs[0]\n",
    "        total_train_loss += loss.item()\n",
    "        \n",
    "        # 反向梯度信息\n",
    "        loss.backward()\n",
    "        torch.nn.utils.clip_grad_norm_(model.parameters(), 1.0)\n",
    "        \n",
    "        # 参数更新\n",
    "        optim.step()\n",
    "        scheduler.step()\n",
    "\n",
    "        iter_num += 1\n",
    "        if(iter_num % 100==0):\n",
    "            print(\"epoth: %d, iter_num: %d, loss: %.4f, %.2f%%\" % (epoch, iter_num, loss.item(), iter_num/total_iter*100))\n",
    "        if(iter_num % 2000==0):\n",
    "            accuracy = validation()\n",
    "            if accuracy > best_accuracy:\n",
    "                model.save_pretrained('G:\\\\deep_learning\\\\Coggle\\\\202301\\\\models\\\\bert\\\\'+'best_model')\n",
    "                best_accuracy = accuracy\n",
    "            model.train()\n",
    "        \n",
    "    print(\"Epoch: %d, Average training loss: %.4f\"%(epoch, total_train_loss/len(train_loader)))\n",
    "\n",
    "def validation():\n",
    "    print(\"start validating...\")\n",
    "    model.eval()\n",
    "    total_eval_accuracy = 0\n",
    "    total_eval_loss = 0\n",
    "    for batch in tqdm(valid_dataloader):\n",
    "        with torch.no_grad():\n",
    "            # 正常传播\n",
    "            input_ids = batch['input_ids'].to(device)\n",
    "            attention_mask = batch['attention_mask'].to(device)\n",
    "            labels = batch['label'].to(device)\n",
    "            outputs = model(input_ids, attention_mask=attention_mask, labels=labels)\n",
    "        \n",
    "        loss = outputs[0]\n",
    "        logits = outputs[1]\n",
    "\n",
    "        total_eval_loss += loss.item()\n",
    "        logits = logits.detach().cpu().numpy()\n",
    "        label_ids = labels.to('cpu').numpy()\n",
    "        total_eval_accuracy += flat_accuracy(logits, label_ids)\n",
    "        \n",
    "    avg_val_accuracy = total_eval_accuracy / len(valid_dataloader)\n",
    "    print(\"Accuracy: %.4f\" % (avg_val_accuracy))\n",
    "    print(\"Average testing loss: %.4f\"%(total_eval_loss/len(valid_dataloader)))\n",
    "    print(\"-------------------------------\")\n",
    "    return avg_val_accuracy\n",
    "    \n",
    "for epoch in range(2):\n",
    "    print(\"------------Epoch: %d ----------------\" % epoch)\n",
    "    train()"
   ]
  },
  {
   "cell_type": "code",
   "execution_count": 39,
   "id": "53a69d7c",
   "metadata": {},
   "outputs": [
    {
     "name": "stdout",
     "output_type": "stream",
     "text": [
      "start testing...\n"
     ]
    },
    {
     "data": {
      "application/vnd.jupyter.widget-view+json": {
       "model_id": "faa89814b86e45059cdb12c6e53f2ac7",
       "version_major": 2,
       "version_minor": 0
      },
      "text/plain": [
       "  0%|          | 0/782 [00:00<?, ?it/s]"
      ]
     },
     "metadata": {},
     "output_type": "display_data"
    },
    {
     "name": "stdout",
     "output_type": "stream",
     "text": [
      "Accuracy: 0.6649\n",
      "Average testing loss: 0.6602\n",
      "-------------------------------\n"
     ]
    },
    {
     "data": {
      "text/plain": [
       "0.6648817135549873"
      ]
     },
     "execution_count": 39,
     "metadata": {},
     "output_type": "execute_result"
    }
   ],
   "source": [
    "model = BertForNextSentencePrediction.from_pretrained('G:\\\\deep_learning\\\\Coggle\\\\202301\\\\models\\\\bert\\\\best_model')\n",
    "model.to(device)\n",
    "def test():\n",
    "    print(\"start testing...\")\n",
    "    model.eval()\n",
    "    total_eval_accuracy = 0\n",
    "    total_eval_loss = 0\n",
    "    for batch in tqdm(test_dataloader):\n",
    "        with torch.no_grad():\n",
    "            # 正常传播\n",
    "            input_ids = batch['input_ids'].to(device)\n",
    "            attention_mask = batch['attention_mask'].to(device)\n",
    "            labels = batch['label'].to(device)\n",
    "            outputs = model(input_ids, attention_mask=attention_mask, labels=labels)\n",
    "        \n",
    "        loss = outputs[0]\n",
    "        logits = outputs[1]\n",
    "\n",
    "        total_eval_loss += loss.item()\n",
    "        logits = logits.detach().cpu().numpy()\n",
    "        label_ids = labels.to('cpu').numpy()\n",
    "        total_eval_accuracy += flat_accuracy(logits, label_ids)\n",
    "        \n",
    "    avg_val_accuracy = total_eval_accuracy / len(test_dataloader)\n",
    "    print(\"Accuracy: %.4f\" % (avg_val_accuracy))\n",
    "    print(\"Average testing loss: %.4f\"%(total_eval_loss/len(test_dataloader)))\n",
    "    print(\"-------------------------------\")\n",
    "    return avg_val_accuracy\n",
    "\n",
    "test()"
   ]
  },
  {
   "cell_type": "code",
   "execution_count": null,
   "id": "235df151",
   "metadata": {},
   "outputs": [],
   "source": []
  }
 ],
 "metadata": {
  "kernelspec": {
   "display_name": "Python 3 (ipykernel)",
   "language": "python",
   "name": "python3"
  },
  "language_info": {
   "codemirror_mode": {
    "name": "ipython",
    "version": 3
   },
   "file_extension": ".py",
   "mimetype": "text/x-python",
   "name": "python",
   "nbconvert_exporter": "python",
   "pygments_lexer": "ipython3",
   "version": "3.7.12"
  }
 },
 "nbformat": 4,
 "nbformat_minor": 5
}
