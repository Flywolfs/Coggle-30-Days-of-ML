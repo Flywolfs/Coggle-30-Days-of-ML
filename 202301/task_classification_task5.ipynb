{
 "cells": [
  {
   "cell_type": "code",
   "execution_count": 60,
   "id": "d9d49aa9",
   "metadata": {},
   "outputs": [],
   "source": [
    "import pandas as pd\n",
    "\n",
    "def load_lcqmc():\n",
    "    '''LCQMC文本匹配数据集\n",
    "    '''\n",
    "    train = pd.read_csv('https://mirror.coggle.club/dataset/LCQMC.train.data.zip', \n",
    "            sep='\\t', names=['query1', 'query2', 'label'])\n",
    "\n",
    "    valid = pd.read_csv('https://mirror.coggle.club/dataset/LCQMC.valid.data.zip', \n",
    "            sep='\\t', names=['query1', 'query2', 'label'])\n",
    "\n",
    "    test = pd.read_csv('https://mirror.coggle.club/dataset/LCQMC.test.data.zip', \n",
    "            sep='\\t', names=['query1', 'query2', 'label'])\n",
    "\n",
    "    return train, valid, test\n"
   ]
  },
  {
   "cell_type": "code",
   "execution_count": 61,
   "id": "e3b9c315",
   "metadata": {},
   "outputs": [],
   "source": [
    "from tqdm.notebook import tqdm\n",
    "tqdm.pandas()"
   ]
  },
  {
   "cell_type": "code",
   "execution_count": 62,
   "id": "84dd45ec",
   "metadata": {},
   "outputs": [],
   "source": [
    "train,valid,test = load_lcqmc()"
   ]
  },
  {
   "cell_type": "code",
   "execution_count": 63,
   "id": "50ec67c8",
   "metadata": {},
   "outputs": [],
   "source": [
    "import jieba\n",
    "def cut_by_jieba(sentence):\n",
    "    return \" \".join(jieba.lcut(sentence))"
   ]
  },
  {
   "cell_type": "code",
   "execution_count": 64,
   "id": "0938967e",
   "metadata": {},
   "outputs": [
    {
     "data": {
      "application/vnd.jupyter.widget-view+json": {
       "model_id": "11a7e37ca4d54b3ead80cf66bc307e68",
       "version_major": 2,
       "version_minor": 0
      },
      "text/plain": [
       "  0%|          | 0/238766 [00:00<?, ?it/s]"
      ]
     },
     "metadata": {},
     "output_type": "display_data"
    },
    {
     "data": {
      "application/vnd.jupyter.widget-view+json": {
       "model_id": "9d8eda89f90448df9af935a1b0a62723",
       "version_major": 2,
       "version_minor": 0
      },
      "text/plain": [
       "  0%|          | 0/238766 [00:00<?, ?it/s]"
      ]
     },
     "metadata": {},
     "output_type": "display_data"
    },
    {
     "data": {
      "application/vnd.jupyter.widget-view+json": {
       "model_id": "0dde6d80c01948e1b575ab00506cc24f",
       "version_major": 2,
       "version_minor": 0
      },
      "text/plain": [
       "  0%|          | 0/8802 [00:00<?, ?it/s]"
      ]
     },
     "metadata": {},
     "output_type": "display_data"
    },
    {
     "data": {
      "application/vnd.jupyter.widget-view+json": {
       "model_id": "68597db3bb6a47399bc434dd552c60f2",
       "version_major": 2,
       "version_minor": 0
      },
      "text/plain": [
       "  0%|          | 0/8802 [00:00<?, ?it/s]"
      ]
     },
     "metadata": {},
     "output_type": "display_data"
    },
    {
     "data": {
      "application/vnd.jupyter.widget-view+json": {
       "model_id": "6d827f9e172145f39792965e8afa520a",
       "version_major": 2,
       "version_minor": 0
      },
      "text/plain": [
       "  0%|          | 0/12500 [00:00<?, ?it/s]"
      ]
     },
     "metadata": {},
     "output_type": "display_data"
    },
    {
     "data": {
      "application/vnd.jupyter.widget-view+json": {
       "model_id": "fb7d3963d8ad485eaad76e18c955ac99",
       "version_major": 2,
       "version_minor": 0
      },
      "text/plain": [
       "  0%|          | 0/12500 [00:00<?, ?it/s]"
      ]
     },
     "metadata": {},
     "output_type": "display_data"
    }
   ],
   "source": [
    "train[\"query1_seg\"] = train[\"query1\"].progress_apply(cut_by_jieba)\n",
    "train[\"query2_seg\"] = train[\"query2\"].progress_apply(cut_by_jieba)\n",
    "valid[\"query1_seg\"] = valid[\"query1\"].progress_apply(cut_by_jieba)\n",
    "valid[\"query2_seg\"] = valid[\"query2\"].progress_apply(cut_by_jieba)\n",
    "test[\"query1_seg\"] = test[\"query1\"].progress_apply(cut_by_jieba)\n",
    "test[\"query2_seg\"] = test[\"query2\"].progress_apply(cut_by_jieba)"
   ]
  },
  {
   "cell_type": "code",
   "execution_count": 65,
   "id": "dda10bb8",
   "metadata": {},
   "outputs": [
    {
     "data": {
      "text/html": [
       "<div>\n",
       "<style scoped>\n",
       "    .dataframe tbody tr th:only-of-type {\n",
       "        vertical-align: middle;\n",
       "    }\n",
       "\n",
       "    .dataframe tbody tr th {\n",
       "        vertical-align: top;\n",
       "    }\n",
       "\n",
       "    .dataframe thead th {\n",
       "        text-align: right;\n",
       "    }\n",
       "</style>\n",
       "<table border=\"1\" class=\"dataframe\">\n",
       "  <thead>\n",
       "    <tr style=\"text-align: right;\">\n",
       "      <th></th>\n",
       "      <th>query1</th>\n",
       "      <th>query2</th>\n",
       "      <th>label</th>\n",
       "      <th>query1_seg</th>\n",
       "      <th>query2_seg</th>\n",
       "    </tr>\n",
       "  </thead>\n",
       "  <tbody>\n",
       "    <tr>\n",
       "      <th>0</th>\n",
       "      <td>喜欢打篮球的男生喜欢什么样的女生</td>\n",
       "      <td>爱打篮球的男生喜欢什么样的女生</td>\n",
       "      <td>1</td>\n",
       "      <td>喜欢 打篮球 的 男生 喜欢 什么样 的 女生</td>\n",
       "      <td>爱 打篮球 的 男生 喜欢 什么样 的 女生</td>\n",
       "    </tr>\n",
       "    <tr>\n",
       "      <th>1</th>\n",
       "      <td>我手机丢了，我想换个手机</td>\n",
       "      <td>我想买个新手机，求推荐</td>\n",
       "      <td>1</td>\n",
       "      <td>我 手机 丢 了 ， 我想 换个 手机</td>\n",
       "      <td>我想 买个 新手机 ， 求 推荐</td>\n",
       "    </tr>\n",
       "    <tr>\n",
       "      <th>2</th>\n",
       "      <td>大家觉得她好看吗</td>\n",
       "      <td>大家觉得跑男好看吗？</td>\n",
       "      <td>0</td>\n",
       "      <td>大家 觉得 她 好看 吗</td>\n",
       "      <td>大家 觉得 跑 男 好看 吗 ？</td>\n",
       "    </tr>\n",
       "    <tr>\n",
       "      <th>3</th>\n",
       "      <td>求秋色之空漫画全集</td>\n",
       "      <td>求秋色之空全集漫画</td>\n",
       "      <td>1</td>\n",
       "      <td>求 秋色 之空 漫画 全集</td>\n",
       "      <td>求 秋色 之空 全集 漫画</td>\n",
       "    </tr>\n",
       "    <tr>\n",
       "      <th>4</th>\n",
       "      <td>晚上睡觉带着耳机听音乐有什么害处吗？</td>\n",
       "      <td>孕妇可以戴耳机听音乐吗?</td>\n",
       "      <td>0</td>\n",
       "      <td>晚上 睡觉 带 着 耳机 听 音乐 有 什么 害处 吗 ？</td>\n",
       "      <td>孕妇 可以 戴 耳机 听 音乐 吗 ?</td>\n",
       "    </tr>\n",
       "    <tr>\n",
       "      <th>...</th>\n",
       "      <td>...</td>\n",
       "      <td>...</td>\n",
       "      <td>...</td>\n",
       "      <td>...</td>\n",
       "      <td>...</td>\n",
       "    </tr>\n",
       "    <tr>\n",
       "      <th>238761</th>\n",
       "      <td>女孩子说我是你的汤是什么意思</td>\n",
       "      <td>男孩给女孩说你的眼是海什么意思</td>\n",
       "      <td>0</td>\n",
       "      <td>女孩子 说 我 是 你 的 汤 是 什么 意思</td>\n",
       "      <td>男孩 给 女孩 说 你 的 眼 是 海 什么 意思</td>\n",
       "    </tr>\n",
       "    <tr>\n",
       "      <th>238762</th>\n",
       "      <td>求重生之老公请接招全文</td>\n",
       "      <td>求重生之老公请接招&gt;全文</td>\n",
       "      <td>1</td>\n",
       "      <td>求 重生 之 老公 请 接招 全文</td>\n",
       "      <td>求 重生 之 老公 请 接招 &gt; 全文</td>\n",
       "    </tr>\n",
       "    <tr>\n",
       "      <th>238763</th>\n",
       "      <td>求小说电子书，</td>\n",
       "      <td>求《甄嬛》小说电子书！</td>\n",
       "      <td>0</td>\n",
       "      <td>求 小说 电子书 ，</td>\n",
       "      <td>求 《 甄 嬛 》 小说 电子书 ！</td>\n",
       "    </tr>\n",
       "    <tr>\n",
       "      <th>238764</th>\n",
       "      <td>杭州有什么好玩的地方？</td>\n",
       "      <td>杭州有什么好玩的地方求推</td>\n",
       "      <td>1</td>\n",
       "      <td>杭州 有 什么 好玩 的 地方 ？</td>\n",
       "      <td>杭州 有 什么 好玩 的 地方 求 推</td>\n",
       "    </tr>\n",
       "    <tr>\n",
       "      <th>238765</th>\n",
       "      <td>我想做卫生巾代理，哪里有</td>\n",
       "      <td>我想做淘宝代理去那找，怎么做</td>\n",
       "      <td>0</td>\n",
       "      <td>我 想 做 卫生巾 代理 ， 哪里 有</td>\n",
       "      <td>我 想 做 淘宝 代理 去 那 找 ， 怎么 做</td>\n",
       "    </tr>\n",
       "  </tbody>\n",
       "</table>\n",
       "<p>238766 rows × 5 columns</p>\n",
       "</div>"
      ],
      "text/plain": [
       "                    query1           query2  label  \\\n",
       "0         喜欢打篮球的男生喜欢什么样的女生  爱打篮球的男生喜欢什么样的女生      1   \n",
       "1             我手机丢了，我想换个手机      我想买个新手机，求推荐      1   \n",
       "2                 大家觉得她好看吗       大家觉得跑男好看吗？      0   \n",
       "3                求秋色之空漫画全集        求秋色之空全集漫画      1   \n",
       "4       晚上睡觉带着耳机听音乐有什么害处吗？     孕妇可以戴耳机听音乐吗?      0   \n",
       "...                    ...              ...    ...   \n",
       "238761      女孩子说我是你的汤是什么意思  男孩给女孩说你的眼是海什么意思      0   \n",
       "238762         求重生之老公请接招全文     求重生之老公请接招>全文      1   \n",
       "238763             求小说电子书，      求《甄嬛》小说电子书！      0   \n",
       "238764         杭州有什么好玩的地方？     杭州有什么好玩的地方求推      1   \n",
       "238765        我想做卫生巾代理，哪里有   我想做淘宝代理去那找，怎么做      0   \n",
       "\n",
       "                           query1_seg                 query2_seg  \n",
       "0             喜欢 打篮球 的 男生 喜欢 什么样 的 女生     爱 打篮球 的 男生 喜欢 什么样 的 女生  \n",
       "1                 我 手机 丢 了 ， 我想 换个 手机           我想 买个 新手机 ， 求 推荐  \n",
       "2                        大家 觉得 她 好看 吗           大家 觉得 跑 男 好看 吗 ？  \n",
       "3                       求 秋色 之空 漫画 全集              求 秋色 之空 全集 漫画  \n",
       "4       晚上 睡觉 带 着 耳机 听 音乐 有 什么 害处 吗 ？        孕妇 可以 戴 耳机 听 音乐 吗 ?  \n",
       "...                               ...                        ...  \n",
       "238761        女孩子 说 我 是 你 的 汤 是 什么 意思  男孩 给 女孩 说 你 的 眼 是 海 什么 意思  \n",
       "238762              求 重生 之 老公 请 接招 全文        求 重生 之 老公 请 接招 > 全文  \n",
       "238763                     求 小说 电子书 ，         求 《 甄 嬛 》 小说 电子书 ！  \n",
       "238764              杭州 有 什么 好玩 的 地方 ？        杭州 有 什么 好玩 的 地方 求 推  \n",
       "238765            我 想 做 卫生巾 代理 ， 哪里 有   我 想 做 淘宝 代理 去 那 找 ， 怎么 做  \n",
       "\n",
       "[238766 rows x 5 columns]"
      ]
     },
     "execution_count": 65,
     "metadata": {},
     "output_type": "execute_result"
    }
   ],
   "source": [
    "train"
   ]
  },
  {
   "cell_type": "code",
   "execution_count": 66,
   "id": "54135390",
   "metadata": {},
   "outputs": [],
   "source": [
    "import gensim\n",
    "import torch\n",
    "import torch.nn as nn\n",
    "import numpy as np\n",
    "model = gensim.models.Word2Vec.load('models/word2vec.model')\n",
    "weights = torch.FloatTensor(model.wv.vectors)\n",
    "unk_idx = len(model.wv.key_to_index)\n",
    "pad_idx = unk_idx + 1\n",
    "model.wv.key_to_index['<UNK>'] = unk_idx\n",
    "model.wv.key_to_index['<PAD>'] = pad_idx\n",
    "model.wv.index_to_key.extend(['<UNK>', '<PAD>'])\n",
    "weights = torch.FloatTensor(np.concatenate((model.wv.vectors, np.zeros((2, 100))), axis=0))"
   ]
  },
  {
   "cell_type": "code",
   "execution_count": 67,
   "id": "5259733d",
   "metadata": {},
   "outputs": [],
   "source": [
    "from torch.utils.data import DataLoader, Dataset\n",
    "\n",
    "class MyDataset(Dataset):\n",
    "    def __init__(self, model, df, train=True):\n",
    "        self.model = model\n",
    "        self.df = df\n",
    "        self.train = train\n",
    "        \n",
    "    def __len__(self):\n",
    "        return len(self.df)\n",
    "    \n",
    "    def __getitem__(self, idx):\n",
    "        text1 = str(self.df.iloc[idx]['query1_seg']).split()\n",
    "        text2 = str(self.df.iloc[idx]['query2_seg']).split()\n",
    "        out1 = [self.model.wv.key_to_index.get(t1, unk_idx) for t1 in text1]\n",
    "        out2 = [self.model.wv.key_to_index.get(t2, unk_idx) for t2 in text2]\n",
    "        len1 = min(len(text1), max_len)\n",
    "        len2 = min(len(text2), max_len)\n",
    "        if len(out1) > max_len:\n",
    "            out1 = out1[:max_len]\n",
    "        else:\n",
    "            out1 += [pad_idx] * (max_len - len(out1))\n",
    "        if len(out2) > max_len:\n",
    "            out2 = out2[:max_len]\n",
    "        else:\n",
    "            out2 += [pad_idx] * (max_len - len(out2))\n",
    "            \n",
    "        if self.train:\n",
    "            return torch.tensor(out1), torch.tensor(out2), len1, len2, torch.tensor(self.df.iloc[idx]['label'])\n",
    "        \n",
    "        return torch.tensor(out1), torch.tensor(out2), len1, len2"
   ]
  },
  {
   "cell_type": "code",
   "execution_count": 68,
   "id": "0118a493",
   "metadata": {},
   "outputs": [],
   "source": [
    "batch_size = 64\n",
    "max_len = 25"
   ]
  },
  {
   "cell_type": "code",
   "execution_count": 69,
   "id": "bfcfcf3f",
   "metadata": {},
   "outputs": [],
   "source": [
    "train_ds = MyDataset(model, train)\n",
    "valid_ds = MyDataset(model, valid)\n",
    "test_ds = MyDataset(model, test, train=False)\n",
    "train_dl = DataLoader(train_ds, batch_size=batch_size, shuffle=True)\n",
    "valid_dl = DataLoader(valid_ds, batch_size=batch_size, shuffle=True)\n",
    "test_dl = DataLoader(test_ds, batch_size=batch_size, shuffle=False)"
   ]
  },
  {
   "cell_type": "code",
   "execution_count": 70,
   "id": "a41d7645",
   "metadata": {},
   "outputs": [],
   "source": [
    "config = {'embedding_size': 100,\n",
    "          'num_layers': 2,\n",
    "          'hidden_size': 64,\n",
    "          'max_len': 25,\n",
    "          'vocab_size':len(model.wv.key_to_index)}"
   ]
  },
  {
   "cell_type": "code",
   "execution_count": 71,
   "id": "10ef06e4",
   "metadata": {},
   "outputs": [],
   "source": [
    "from datetime import datetime\n",
    "def printbar():\n",
    "    nowtime = datetime.now()\n",
    "    print('========' * 8 + nowtime.strftime('%H:%M:%S'))"
   ]
  },
  {
   "cell_type": "code",
   "execution_count": 72,
   "id": "d9920a35",
   "metadata": {},
   "outputs": [],
   "source": [
    "class SiamGRU(nn.Module):\n",
    "    def __init__(self, config):\n",
    "        super(SiamGRU, self).__init__()\n",
    "#         self.embedding = nn.Embedding(config['vocab_size'], \n",
    "#                                       config['embedding_size'], \n",
    "#                                       padding_idx=pad_idx)\n",
    "        self.embedding = nn.Embedding.from_pretrained(weights,\n",
    "                                                 freeze=False,\n",
    "                                                 padding_idx=pad_idx)\n",
    "        \n",
    "        self.gru = nn.GRU(config['embedding_size'], \n",
    "                          config['hidden_size'],\n",
    "                          num_layers=config['num_layers'], \n",
    "                          bidirectional=True,\n",
    "                          batch_first=True, \n",
    "                          dropout=0.5)\n",
    "    \n",
    "        self.clf = nn.Sequential(nn.Linear(8 * config['hidden_size'], config['hidden_size']),\n",
    "                                 nn.ReLU(inplace=True),\n",
    "                                 nn.Dropout(0.5),\n",
    "                                 nn.Linear(config['hidden_size'], 2))\n",
    "        \n",
    "    def cross_layer(self, x1, x2):\n",
    "        f1 = torch.mul(x1, x2)\n",
    "        f2 = torch.abs(x1 - x2)\n",
    "        return torch.cat([x1, x2, f1, f2], axis=1)\n",
    "    \n",
    "    def forward_once(self, x, text_len):\n",
    "        embed = self.embedding(x)\n",
    "        output, _ = self.gru(embed) # batch_size, seq_len, 2 * hidden_size\n",
    "        avg_out = torch.mean(output, 1)\n",
    "        return avg_out\n",
    "        \n",
    "    def forward(self, x1, x2, text_len1, text_len2):\n",
    "        out1 = self.forward_once(x1, text_len1)\n",
    "        out2 = self.forward_once(x2, text_len2)\n",
    "        cross_features = self.cross_layer(out1, out2)\n",
    "        out = self.clf(cross_features)\n",
    "        return out"
   ]
  },
  {
   "cell_type": "code",
   "execution_count": 79,
   "id": "d1714288",
   "metadata": {},
   "outputs": [],
   "source": [
    "def train(net, epochs, loss_fn, train_dl, valid_dl, optimizer,device):\n",
    "    net.train()\n",
    "    printbar()\n",
    "    print('Start Training...')\n",
    "    total_train_loss = []\n",
    "    total_valid_loss = []\n",
    "    for epoch in range(epochs):\n",
    "        epoch_train_loss = 0\n",
    "        count = 0\n",
    "        for x1, x2, len1, len2, y in tqdm(train_dl):\n",
    "            optimizer.zero_grad()\n",
    "            x1 = x1.to(device)\n",
    "            x2 = x2.to(device)\n",
    "            len1 = len1.to(device)\n",
    "            len2 = len2.to(device)\n",
    "            y = y.to(device)\n",
    "            y_out = net(x1, x2, len1, len2)\n",
    "            loss = loss_fn(y_out, y)\n",
    "            loss.backward()\n",
    "            optimizer.step()\n",
    "            epoch_train_loss += loss.item()\n",
    "            y_pred = torch.max(y_out, 1)[1]\n",
    "            count += (y_pred.cpu().numpy() == y.cpu().numpy()).mean()\n",
    "        train_acc = count / len(train_dl)\n",
    "        train_loss = epoch_train_loss / len(train_dl)\n",
    "        valid_loss, valid_acc = evaluate(net, loss_fn, valid_dl, device)\n",
    "        printbar()\n",
    "        print(f'Epoch: {epoch+1}, train loss: {train_loss:.4f}, valid loss: {valid_loss:.4f}, train_acc: {train_acc:.4f}, valid_acc: {valid_acc:.4f}')\n",
    "        total_train_loss.append(train_loss)\n",
    "        total_valid_loss.append(valid_loss)\n",
    "    return total_train_loss, total_valid_loss\n",
    "\n",
    "def evaluate(net, loss_fn, valid_dl, device):\n",
    "    net.eval()\n",
    "    valid_loss = 0\n",
    "    count = 0\n",
    "    with torch.no_grad():\n",
    "        for x1, x2, len1, len2, y in tqdm(valid_dl):\n",
    "            x1 = x1.to(device)\n",
    "            x2 = x2.to(device)\n",
    "            len1 = len1.to(device)\n",
    "            len2 = len2.to(device)\n",
    "            y = y.to(device)\n",
    "            y_out = net(x1, x2, len1, len2)\n",
    "            loss = loss_fn(y_out, y)\n",
    "            valid_loss += loss.item()\n",
    "            y_pred = torch.max(y_out, 1)[1]\n",
    "            count += (y_pred.cpu().numpy() == y.cpu().numpy()).mean()\n",
    "    net.train()\n",
    "    return valid_loss / len(valid_dl), count / len(valid_dl)\n",
    "\n",
    "def predict(net, test_dl, device):\n",
    "    y_pred = []\n",
    "    for x1, x2, len1, len2 in test_dl:\n",
    "        x1 = x1.to(device)\n",
    "        x2 = x2.to(device)\n",
    "        len1 = len1.to(device)\n",
    "        len2 = len2.to(device)\n",
    "        y_out = net(x1, x2, len1, len2)\n",
    "        y_pred.extend(torch.max(y_out, 1)[1].tolist())\n",
    "    return y_pred"
   ]
  },
  {
   "cell_type": "code",
   "execution_count": 78,
   "id": "23587ceb",
   "metadata": {},
   "outputs": [
    {
     "name": "stdout",
     "output_type": "stream",
     "text": [
      "================================================================18:59:42\n",
      "Start Training...\n"
     ]
    },
    {
     "data": {
      "application/vnd.jupyter.widget-view+json": {
       "model_id": "87c554f08a06429589b6c86b1866eca4",
       "version_major": 2,
       "version_minor": 0
      },
      "text/plain": [
       "  0%|          | 0/3731 [00:00<?, ?it/s]"
      ]
     },
     "metadata": {},
     "output_type": "display_data"
    },
    {
     "data": {
      "application/vnd.jupyter.widget-view+json": {
       "model_id": "f9ff148cdd174cf5997340c04b7149fe",
       "version_major": 2,
       "version_minor": 0
      },
      "text/plain": [
       "  0%|          | 0/138 [00:00<?, ?it/s]"
      ]
     },
     "metadata": {},
     "output_type": "display_data"
    },
    {
     "name": "stdout",
     "output_type": "stream",
     "text": [
      "================================================================19:02:02\n",
      "Epoch: 1, train loss: 0.4089, valid loss: 0.5729, train_acc: 0.8154, valid_acc: 0.7505\n"
     ]
    },
    {
     "data": {
      "application/vnd.jupyter.widget-view+json": {
       "model_id": "eeb3376afca04450ab4cb0cadf9028a0",
       "version_major": 2,
       "version_minor": 0
      },
      "text/plain": [
       "  0%|          | 0/3731 [00:00<?, ?it/s]"
      ]
     },
     "metadata": {},
     "output_type": "display_data"
    },
    {
     "data": {
      "application/vnd.jupyter.widget-view+json": {
       "model_id": "70993886062d456a828194b5fa9eb527",
       "version_major": 2,
       "version_minor": 0
      },
      "text/plain": [
       "  0%|          | 0/138 [00:00<?, ?it/s]"
      ]
     },
     "metadata": {},
     "output_type": "display_data"
    },
    {
     "name": "stdout",
     "output_type": "stream",
     "text": [
      "================================================================19:04:23\n",
      "Epoch: 2, train loss: 0.2867, valid loss: 0.5687, train_acc: 0.8823, valid_acc: 0.7870\n"
     ]
    },
    {
     "data": {
      "application/vnd.jupyter.widget-view+json": {
       "model_id": "76c9cd0765234d96927fb6518a4a4dce",
       "version_major": 2,
       "version_minor": 0
      },
      "text/plain": [
       "  0%|          | 0/3731 [00:00<?, ?it/s]"
      ]
     },
     "metadata": {},
     "output_type": "display_data"
    },
    {
     "data": {
      "application/vnd.jupyter.widget-view+json": {
       "model_id": "06ca783316b14e639d78495e48591b4e",
       "version_major": 2,
       "version_minor": 0
      },
      "text/plain": [
       "  0%|          | 0/138 [00:00<?, ?it/s]"
      ]
     },
     "metadata": {},
     "output_type": "display_data"
    },
    {
     "name": "stdout",
     "output_type": "stream",
     "text": [
      "================================================================19:06:44\n",
      "Epoch: 3, train loss: 0.2369, valid loss: 0.5121, train_acc: 0.9052, valid_acc: 0.7983\n"
     ]
    },
    {
     "data": {
      "application/vnd.jupyter.widget-view+json": {
       "model_id": "0c754cf4e7644dd0817b802fef48cd6b",
       "version_major": 2,
       "version_minor": 0
      },
      "text/plain": [
       "  0%|          | 0/3731 [00:00<?, ?it/s]"
      ]
     },
     "metadata": {},
     "output_type": "display_data"
    },
    {
     "data": {
      "application/vnd.jupyter.widget-view+json": {
       "model_id": "8095e4c64c0248669e883f4922a33b65",
       "version_major": 2,
       "version_minor": 0
      },
      "text/plain": [
       "  0%|          | 0/138 [00:00<?, ?it/s]"
      ]
     },
     "metadata": {},
     "output_type": "display_data"
    },
    {
     "name": "stdout",
     "output_type": "stream",
     "text": [
      "================================================================19:09:05\n",
      "Epoch: 4, train loss: 0.2052, valid loss: 0.5798, train_acc: 0.9192, valid_acc: 0.8036\n"
     ]
    },
    {
     "data": {
      "application/vnd.jupyter.widget-view+json": {
       "model_id": "e29e742af09d45cc994c4544e6a2cea7",
       "version_major": 2,
       "version_minor": 0
      },
      "text/plain": [
       "  0%|          | 0/3731 [00:00<?, ?it/s]"
      ]
     },
     "metadata": {},
     "output_type": "display_data"
    },
    {
     "data": {
      "application/vnd.jupyter.widget-view+json": {
       "model_id": "3d2ecf9a8c29430895b6aa5209b59121",
       "version_major": 2,
       "version_minor": 0
      },
      "text/plain": [
       "  0%|          | 0/138 [00:00<?, ?it/s]"
      ]
     },
     "metadata": {},
     "output_type": "display_data"
    },
    {
     "name": "stdout",
     "output_type": "stream",
     "text": [
      "================================================================19:11:22\n",
      "Epoch: 5, train loss: 0.1808, valid loss: 0.5826, train_acc: 0.9296, valid_acc: 0.8131\n"
     ]
    },
    {
     "data": {
      "application/vnd.jupyter.widget-view+json": {
       "model_id": "c58b945bb175416095639718995feecc",
       "version_major": 2,
       "version_minor": 0
      },
      "text/plain": [
       "  0%|          | 0/3731 [00:00<?, ?it/s]"
      ]
     },
     "metadata": {},
     "output_type": "display_data"
    },
    {
     "data": {
      "application/vnd.jupyter.widget-view+json": {
       "model_id": "fda519a408a54247a5e85a496de0b636",
       "version_major": 2,
       "version_minor": 0
      },
      "text/plain": [
       "  0%|          | 0/138 [00:00<?, ?it/s]"
      ]
     },
     "metadata": {},
     "output_type": "display_data"
    },
    {
     "name": "stdout",
     "output_type": "stream",
     "text": [
      "================================================================19:13:36\n",
      "Epoch: 6, train loss: 0.1619, valid loss: 0.5790, train_acc: 0.9373, valid_acc: 0.8125\n"
     ]
    },
    {
     "data": {
      "application/vnd.jupyter.widget-view+json": {
       "model_id": "d63f4034f6fe4caab109e07313affe55",
       "version_major": 2,
       "version_minor": 0
      },
      "text/plain": [
       "  0%|          | 0/3731 [00:00<?, ?it/s]"
      ]
     },
     "metadata": {},
     "output_type": "display_data"
    },
    {
     "data": {
      "application/vnd.jupyter.widget-view+json": {
       "model_id": "312fdc1021e5403ab167b9da25e01ba4",
       "version_major": 2,
       "version_minor": 0
      },
      "text/plain": [
       "  0%|          | 0/138 [00:00<?, ?it/s]"
      ]
     },
     "metadata": {},
     "output_type": "display_data"
    },
    {
     "name": "stdout",
     "output_type": "stream",
     "text": [
      "================================================================19:15:53\n",
      "Epoch: 7, train loss: 0.1467, valid loss: 0.6999, train_acc: 0.9435, valid_acc: 0.8161\n"
     ]
    },
    {
     "data": {
      "application/vnd.jupyter.widget-view+json": {
       "model_id": "8bddc27d5b5641e6a1446de350b8acac",
       "version_major": 2,
       "version_minor": 0
      },
      "text/plain": [
       "  0%|          | 0/3731 [00:00<?, ?it/s]"
      ]
     },
     "metadata": {},
     "output_type": "display_data"
    },
    {
     "data": {
      "application/vnd.jupyter.widget-view+json": {
       "model_id": "1d37a1e9c9c34d35b5617c1e351bebb2",
       "version_major": 2,
       "version_minor": 0
      },
      "text/plain": [
       "  0%|          | 0/138 [00:00<?, ?it/s]"
      ]
     },
     "metadata": {},
     "output_type": "display_data"
    },
    {
     "name": "stdout",
     "output_type": "stream",
     "text": [
      "================================================================19:18:08\n",
      "Epoch: 8, train loss: 0.1329, valid loss: 0.6551, train_acc: 0.9496, valid_acc: 0.8159\n"
     ]
    },
    {
     "data": {
      "application/vnd.jupyter.widget-view+json": {
       "model_id": "2a2b85c614144efa9bc3b971471002a9",
       "version_major": 2,
       "version_minor": 0
      },
      "text/plain": [
       "  0%|          | 0/3731 [00:00<?, ?it/s]"
      ]
     },
     "metadata": {},
     "output_type": "display_data"
    },
    {
     "data": {
      "application/vnd.jupyter.widget-view+json": {
       "model_id": "560b15f9c4a74d6982b2264ddc3ec1cb",
       "version_major": 2,
       "version_minor": 0
      },
      "text/plain": [
       "  0%|          | 0/138 [00:00<?, ?it/s]"
      ]
     },
     "metadata": {},
     "output_type": "display_data"
    },
    {
     "name": "stdout",
     "output_type": "stream",
     "text": [
      "================================================================19:20:22\n",
      "Epoch: 9, train loss: 0.1204, valid loss: 0.8124, train_acc: 0.9540, valid_acc: 0.8156\n"
     ]
    },
    {
     "data": {
      "application/vnd.jupyter.widget-view+json": {
       "model_id": "1ada108d075e4e93a2d2d4b1695d23f8",
       "version_major": 2,
       "version_minor": 0
      },
      "text/plain": [
       "  0%|          | 0/3731 [00:00<?, ?it/s]"
      ]
     },
     "metadata": {},
     "output_type": "display_data"
    },
    {
     "data": {
      "application/vnd.jupyter.widget-view+json": {
       "model_id": "7ac17f68a7aa46f4b1fce432eb996867",
       "version_major": 2,
       "version_minor": 0
      },
      "text/plain": [
       "  0%|          | 0/138 [00:00<?, ?it/s]"
      ]
     },
     "metadata": {},
     "output_type": "display_data"
    },
    {
     "name": "stdout",
     "output_type": "stream",
     "text": [
      "================================================================19:22:36\n",
      "Epoch: 10, train loss: 0.1105, valid loss: 0.8623, train_acc: 0.9580, valid_acc: 0.8163\n"
     ]
    }
   ],
   "source": [
    "epochs = 10\n",
    "device = torch.device('cuda:0' if torch.cuda.is_available() else \"cpu\")\n",
    "loss_fn = nn.CrossEntropyLoss()\n",
    "siamgru = SiamGRU(config)\n",
    "siamgru.to(device)\n",
    "optimizer = torch.optim.Adam(siamgru.parameters(), lr=1e-3)\n",
    "train_loss, valid_loss = train(siamgru, epochs, loss_fn, train_dl, valid_dl, optimizer, device)"
   ]
  },
  {
   "cell_type": "code",
   "execution_count": 80,
   "id": "5085d7e4",
   "metadata": {},
   "outputs": [],
   "source": [
    "test_preds = predict(siamgru, test_dl, device)"
   ]
  },
  {
   "cell_type": "code",
   "execution_count": 82,
   "id": "6c4ccdda",
   "metadata": {},
   "outputs": [],
   "source": [
    "torch.save(siamgru.state_dict, 'models/siamgru.model')"
   ]
  },
  {
   "cell_type": "code",
   "execution_count": 83,
   "id": "a02de353",
   "metadata": {},
   "outputs": [],
   "source": [
    "test[\"siamgru_prediction\"] = test_preds"
   ]
  },
  {
   "cell_type": "code",
   "execution_count": 84,
   "id": "7c308493",
   "metadata": {},
   "outputs": [
    {
     "data": {
      "text/html": [
       "<div>\n",
       "<style scoped>\n",
       "    .dataframe tbody tr th:only-of-type {\n",
       "        vertical-align: middle;\n",
       "    }\n",
       "\n",
       "    .dataframe tbody tr th {\n",
       "        vertical-align: top;\n",
       "    }\n",
       "\n",
       "    .dataframe thead th {\n",
       "        text-align: right;\n",
       "    }\n",
       "</style>\n",
       "<table border=\"1\" class=\"dataframe\">\n",
       "  <thead>\n",
       "    <tr style=\"text-align: right;\">\n",
       "      <th></th>\n",
       "      <th>query1</th>\n",
       "      <th>query2</th>\n",
       "      <th>label</th>\n",
       "      <th>query1_seg</th>\n",
       "      <th>query2_seg</th>\n",
       "      <th>siamgru_prediction</th>\n",
       "    </tr>\n",
       "  </thead>\n",
       "  <tbody>\n",
       "    <tr>\n",
       "      <th>0</th>\n",
       "      <td>谁有狂三这张高清的</td>\n",
       "      <td>这张高清图，谁有</td>\n",
       "      <td>0</td>\n",
       "      <td>谁 有 狂 三 这张 高清 的</td>\n",
       "      <td>这张 高清 图 ， 谁 有</td>\n",
       "      <td>0</td>\n",
       "    </tr>\n",
       "    <tr>\n",
       "      <th>1</th>\n",
       "      <td>英雄联盟什么英雄最好</td>\n",
       "      <td>英雄联盟最好英雄是什么</td>\n",
       "      <td>1</td>\n",
       "      <td>英雄 联盟 什么 英雄 最好</td>\n",
       "      <td>英雄 联盟 最好 英雄 是 什么</td>\n",
       "      <td>1</td>\n",
       "    </tr>\n",
       "    <tr>\n",
       "      <th>2</th>\n",
       "      <td>这是什么意思，被蹭网吗</td>\n",
       "      <td>我也是醉了，这是什么意思</td>\n",
       "      <td>0</td>\n",
       "      <td>这是 什么 意思 ， 被 蹭 网 吗</td>\n",
       "      <td>我 也 是 醉 了 ， 这是 什么 意思</td>\n",
       "      <td>0</td>\n",
       "    </tr>\n",
       "    <tr>\n",
       "      <th>3</th>\n",
       "      <td>现在有什么动画片好看呢？</td>\n",
       "      <td>现在有什么好看的动画片吗？</td>\n",
       "      <td>1</td>\n",
       "      <td>现在 有 什么 动画片 好看 呢 ？</td>\n",
       "      <td>现在 有 什么 好看 的 动画片 吗 ？</td>\n",
       "      <td>1</td>\n",
       "    </tr>\n",
       "    <tr>\n",
       "      <th>4</th>\n",
       "      <td>请问晶达电子厂现在的工资待遇怎么样要求有哪些</td>\n",
       "      <td>三星电子厂工资待遇怎么样啊</td>\n",
       "      <td>0</td>\n",
       "      <td>请问 晶达 电子厂 现在 的 工资待遇 怎么样 要求 有 哪些</td>\n",
       "      <td>三星电子 厂 工资待遇 怎么样 啊</td>\n",
       "      <td>0</td>\n",
       "    </tr>\n",
       "    <tr>\n",
       "      <th>...</th>\n",
       "      <td>...</td>\n",
       "      <td>...</td>\n",
       "      <td>...</td>\n",
       "      <td>...</td>\n",
       "      <td>...</td>\n",
       "      <td>...</td>\n",
       "    </tr>\n",
       "    <tr>\n",
       "      <th>12495</th>\n",
       "      <td>微店怎么开？怎么做代理？</td>\n",
       "      <td>微店怎样代理</td>\n",
       "      <td>1</td>\n",
       "      <td>微店 怎么 开 ？ 怎么 做 代理 ？</td>\n",
       "      <td>微店 怎样 代理</td>\n",
       "      <td>1</td>\n",
       "    </tr>\n",
       "    <tr>\n",
       "      <th>12496</th>\n",
       "      <td>小学科学三年级上</td>\n",
       "      <td>小学三年级科学</td>\n",
       "      <td>0</td>\n",
       "      <td>小学 科学 三年级 上</td>\n",
       "      <td>小学 三年级 科学</td>\n",
       "      <td>0</td>\n",
       "    </tr>\n",
       "    <tr>\n",
       "      <th>12497</th>\n",
       "      <td>冬眠是什么意思？</td>\n",
       "      <td>冬眠的意思是什么</td>\n",
       "      <td>1</td>\n",
       "      <td>冬眠 是 什么 意思 ？</td>\n",
       "      <td>冬眠 的 意思 是 什么</td>\n",
       "      <td>1</td>\n",
       "    </tr>\n",
       "    <tr>\n",
       "      <th>12498</th>\n",
       "      <td>天猫有假货吗</td>\n",
       "      <td>天猫卖假货吗</td>\n",
       "      <td>0</td>\n",
       "      <td>天猫 有 假货 吗</td>\n",
       "      <td>天猫 卖 假货 吗</td>\n",
       "      <td>1</td>\n",
       "    </tr>\n",
       "    <tr>\n",
       "      <th>12499</th>\n",
       "      <td>天兵天将是什么生肖？</td>\n",
       "      <td>天兵天将是指什么生肖</td>\n",
       "      <td>1</td>\n",
       "      <td>天兵天将 是 什么 生肖 ？</td>\n",
       "      <td>天兵天将 是 指 什么 生肖</td>\n",
       "      <td>1</td>\n",
       "    </tr>\n",
       "  </tbody>\n",
       "</table>\n",
       "<p>12500 rows × 6 columns</p>\n",
       "</div>"
      ],
      "text/plain": [
       "                       query1         query2  label  \\\n",
       "0                   谁有狂三这张高清的       这张高清图，谁有      0   \n",
       "1                  英雄联盟什么英雄最好    英雄联盟最好英雄是什么      1   \n",
       "2                 这是什么意思，被蹭网吗   我也是醉了，这是什么意思      0   \n",
       "3                现在有什么动画片好看呢？  现在有什么好看的动画片吗？      1   \n",
       "4      请问晶达电子厂现在的工资待遇怎么样要求有哪些  三星电子厂工资待遇怎么样啊      0   \n",
       "...                       ...            ...    ...   \n",
       "12495            微店怎么开？怎么做代理？         微店怎样代理      1   \n",
       "12496                小学科学三年级上        小学三年级科学      0   \n",
       "12497                冬眠是什么意思？       冬眠的意思是什么      1   \n",
       "12498                  天猫有假货吗         天猫卖假货吗      0   \n",
       "12499              天兵天将是什么生肖？     天兵天将是指什么生肖      1   \n",
       "\n",
       "                            query1_seg            query2_seg  \\\n",
       "0                      谁 有 狂 三 这张 高清 的         这张 高清 图 ， 谁 有   \n",
       "1                       英雄 联盟 什么 英雄 最好      英雄 联盟 最好 英雄 是 什么   \n",
       "2                   这是 什么 意思 ， 被 蹭 网 吗  我 也 是 醉 了 ， 这是 什么 意思   \n",
       "3                   现在 有 什么 动画片 好看 呢 ？  现在 有 什么 好看 的 动画片 吗 ？   \n",
       "4      请问 晶达 电子厂 现在 的 工资待遇 怎么样 要求 有 哪些     三星电子 厂 工资待遇 怎么样 啊   \n",
       "...                                ...                   ...   \n",
       "12495              微店 怎么 开 ？ 怎么 做 代理 ？              微店 怎样 代理   \n",
       "12496                      小学 科学 三年级 上             小学 三年级 科学   \n",
       "12497                     冬眠 是 什么 意思 ？          冬眠 的 意思 是 什么   \n",
       "12498                        天猫 有 假货 吗             天猫 卖 假货 吗   \n",
       "12499                   天兵天将 是 什么 生肖 ？        天兵天将 是 指 什么 生肖   \n",
       "\n",
       "       siamgru_prediction  \n",
       "0                       0  \n",
       "1                       1  \n",
       "2                       0  \n",
       "3                       1  \n",
       "4                       0  \n",
       "...                   ...  \n",
       "12495                   1  \n",
       "12496                   0  \n",
       "12497                   1  \n",
       "12498                   1  \n",
       "12499                   1  \n",
       "\n",
       "[12500 rows x 6 columns]"
      ]
     },
     "execution_count": 84,
     "metadata": {},
     "output_type": "execute_result"
    }
   ],
   "source": [
    "test"
   ]
  },
  {
   "cell_type": "code",
   "execution_count": 85,
   "id": "a9289d38",
   "metadata": {},
   "outputs": [
    {
     "name": "stdout",
     "output_type": "stream",
     "text": [
      "孪生网络的accuracy是:0.81896\n"
     ]
    }
   ],
   "source": [
    "siamgru_accuracy = len(test[test[\"label\"]==test[\"siamgru_prediction\"]])/len(test)\n",
    "print(\"孪生网络的accuracy是:{}\".format(siamgru_accuracy))"
   ]
  },
  {
   "cell_type": "code",
   "execution_count": null,
   "id": "a749f0d7",
   "metadata": {},
   "outputs": [],
   "source": []
  }
 ],
 "metadata": {
  "kernelspec": {
   "display_name": "Python 3 (ipykernel)",
   "language": "python",
   "name": "python3"
  },
  "language_info": {
   "codemirror_mode": {
    "name": "ipython",
    "version": 3
   },
   "file_extension": ".py",
   "mimetype": "text/x-python",
   "name": "python",
   "nbconvert_exporter": "python",
   "pygments_lexer": "ipython3",
   "version": "3.7.12"
  }
 },
 "nbformat": 4,
 "nbformat_minor": 5
}
