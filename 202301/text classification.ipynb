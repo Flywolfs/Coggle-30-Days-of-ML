{
 "cells": [
  {
   "cell_type": "code",
   "execution_count": 1,
   "id": "0cb70f2e",
   "metadata": {},
   "outputs": [],
   "source": [
    "#任务1：数据集读取\n",
    "import pandas as pd\n",
    "\n",
    "def load_lcqmc():\n",
    "    '''LCQMC文本匹配数据集\n",
    "    '''\n",
    "    train = pd.read_csv('https://mirror.coggle.club/dataset/LCQMC.train.data.zip', \n",
    "            sep='\\t', names=['query1', 'query2', 'label'])\n",
    "\n",
    "    valid = pd.read_csv('https://mirror.coggle.club/dataset/LCQMC.valid.data.zip', \n",
    "            sep='\\t', names=['query1', 'query2', 'label'])\n",
    "\n",
    "    test = pd.read_csv('https://mirror.coggle.club/dataset/LCQMC.test.data.zip', \n",
    "            sep='\\t', names=['query1', 'query2', 'label'])\n",
    "\n",
    "    return train, valid, test"
   ]
  },
  {
   "cell_type": "code",
   "execution_count": 2,
   "id": "4e0895f8",
   "metadata": {},
   "outputs": [],
   "source": [
    "train, valid, test = load_lcqmc()"
   ]
  },
  {
   "cell_type": "code",
   "execution_count": 3,
   "id": "39817b0f",
   "metadata": {},
   "outputs": [
    {
     "data": {
      "text/plain": [
       "count    238766.000000\n",
       "mean         10.668177\n",
       "std           4.087534\n",
       "min           2.000000\n",
       "25%           8.000000\n",
       "50%          10.000000\n",
       "75%          12.000000\n",
       "max          49.000000\n",
       "Name: query1, dtype: float64"
      ]
     },
     "execution_count": 3,
     "metadata": {},
     "output_type": "execute_result"
    }
   ],
   "source": [
    "#任务2：文本数据分析\n",
    "#步骤1\n",
    "train[\"query1\"].map(len).describe()"
   ]
  },
  {
   "cell_type": "code",
   "execution_count": 4,
   "id": "367a32d2",
   "metadata": {},
   "outputs": [
    {
     "data": {
      "text/plain": [
       "count    238766.000000\n",
       "mean         11.209586\n",
       "std           4.813823\n",
       "min           2.000000\n",
       "25%           8.000000\n",
       "50%          10.000000\n",
       "75%          13.000000\n",
       "max         131.000000\n",
       "Name: query2, dtype: float64"
      ]
     },
     "execution_count": 4,
     "metadata": {},
     "output_type": "execute_result"
    }
   ],
   "source": [
    "train[\"query2\"].map(len).describe()"
   ]
  },
  {
   "cell_type": "code",
   "execution_count": 5,
   "id": "ffc28a64",
   "metadata": {},
   "outputs": [
    {
     "data": {
      "text/plain": [
       "count    8802.000000\n",
       "mean       12.411497\n",
       "std         3.490952\n",
       "min         4.000000\n",
       "25%        10.000000\n",
       "50%        12.000000\n",
       "75%        14.000000\n",
       "max        36.000000\n",
       "Name: query1, dtype: float64"
      ]
     },
     "execution_count": 5,
     "metadata": {},
     "output_type": "execute_result"
    }
   ],
   "source": [
    "valid[\"query1\"].map(len).describe()"
   ]
  },
  {
   "cell_type": "code",
   "execution_count": 6,
   "id": "262c8879",
   "metadata": {},
   "outputs": [
    {
     "data": {
      "text/plain": [
       "count    8802.000000\n",
       "mean       12.575324\n",
       "std         3.722241\n",
       "min         4.000000\n",
       "25%        10.000000\n",
       "50%        12.000000\n",
       "75%        14.000000\n",
       "max        36.000000\n",
       "Name: query2, dtype: float64"
      ]
     },
     "execution_count": 6,
     "metadata": {},
     "output_type": "execute_result"
    }
   ],
   "source": [
    "valid[\"query2\"].map(len).describe()"
   ]
  },
  {
   "cell_type": "code",
   "execution_count": 7,
   "id": "3ba900d6",
   "metadata": {},
   "outputs": [
    {
     "data": {
      "text/plain": [
       "count    12500.000000\n",
       "mean         9.616080\n",
       "std          2.549024\n",
       "min          4.000000\n",
       "25%          8.000000\n",
       "50%          9.000000\n",
       "75%         11.000000\n",
       "max         26.000000\n",
       "Name: query1, dtype: float64"
      ]
     },
     "execution_count": 7,
     "metadata": {},
     "output_type": "execute_result"
    }
   ],
   "source": [
    "test[\"query1\"].map(len).describe()"
   ]
  },
  {
   "cell_type": "code",
   "execution_count": 8,
   "id": "0e6e0136",
   "metadata": {},
   "outputs": [
    {
     "data": {
      "text/plain": [
       "count    12500.000000\n",
       "mean         9.818480\n",
       "std          2.778299\n",
       "min          4.000000\n",
       "25%          8.000000\n",
       "50%          9.000000\n",
       "75%         11.000000\n",
       "max         27.000000\n",
       "Name: query2, dtype: float64"
      ]
     },
     "execution_count": 8,
     "metadata": {},
     "output_type": "execute_result"
    }
   ],
   "source": [
    "test[\"query2\"].map(len).describe()"
   ]
  },
  {
   "cell_type": "code",
   "execution_count": 9,
   "id": "ae36e4f1",
   "metadata": {},
   "outputs": [],
   "source": [
    "#步骤2\n",
    "import jieba\n",
    "def cut_by_jieba_len(sentence):\n",
    "    seg_list = jieba.cut(sentence)\n",
    "    return len(list(seg_list))\n",
    "def cut_by_jieba(sentence):\n",
    "    return list(jieba.cut(sentence))"
   ]
  },
  {
   "cell_type": "code",
   "execution_count": 10,
   "id": "9362028c",
   "metadata": {},
   "outputs": [
    {
     "name": "stderr",
     "output_type": "stream",
     "text": [
      "Building prefix dict from the default dictionary ...\n",
      "Loading model from cache C:\\Users\\muma\\AppData\\Local\\Temp\\jieba.cache\n",
      "Loading model cost 0.514 seconds.\n",
      "Prefix dict has been built successfully.\n"
     ]
    }
   ],
   "source": [
    "#任务3：文本相似度（统计特征）\n",
    "#步骤1\n",
    "train[\"query1_seg_len\"] = train[\"query1\"].apply(cut_by_jieba_len)\n",
    "train[\"query2_seg_len\"] = train[\"query2\"].apply(cut_by_jieba_len)\n",
    "train[\"seg_len_diff\"] = abs(train[\"query1_seg_len\"]-train[\"query2_seg_len\"])"
   ]
  },
  {
   "cell_type": "code",
   "execution_count": 11,
   "id": "2885ab85",
   "metadata": {},
   "outputs": [],
   "source": [
    "train[\"query1_seg\"] = train[\"query1\"].apply(cut_by_jieba)\n",
    "train[\"query2_seg\"] = train[\"query2\"].apply(cut_by_jieba)"
   ]
  },
  {
   "cell_type": "code",
   "execution_count": 12,
   "id": "24c74cdb",
   "metadata": {},
   "outputs": [],
   "source": [
    "#文本长度\n",
    "train[\"query1_text_len\"] = train[\"query1\"].map(len)\n",
    "train[\"query2_text_len\"] = train[\"query2\"].map(len)\n",
    "train[\"text_len_diff\"] = abs(train[\"query1_text_len\"]-train[\"query2_text_len\"])"
   ]
  },
  {
   "cell_type": "code",
   "execution_count": 13,
   "id": "16fa54db",
   "metadata": {},
   "outputs": [],
   "source": [
    "#最长公共子串\n",
    "def longestCommonSubstr(word1: str, word2: str) -> int:\n",
    "\n",
    "    m = len(word1)\n",
    "    n = len(word2)\n",
    "    dp = [[0] * (n + 1) for _ in range(m + 1)]\n",
    "    # dp[i][j]代表word1以i结尾,word2以j结尾，的最大公共子串的长度\n",
    "\n",
    "    max_len = 0\n",
    "    row = 0\n",
    "    col = 0\n",
    "    for i in range(1, m + 1):\n",
    "        for j in range(1, n + 1):\n",
    "            if word1[i - 1] == word2[j - 1]:\n",
    "                dp[i][j] = dp[i - 1][j - 1] + 1\n",
    "                if max_len < dp[i][j]:\n",
    "                    max_len = dp[i][j]\n",
    "                    row = i\n",
    "                    col = j\n",
    "    return max_len"
   ]
  },
  {
   "cell_type": "code",
   "execution_count": 14,
   "id": "65e55645",
   "metadata": {},
   "outputs": [],
   "source": [
    "#query1和query2文本最长公用字符串长度\n",
    "query1_query2_lcs_len = []\n",
    "for i in range(len(train)):\n",
    "    query1_query2_lcs_len.append(longestCommonSubstr(train.iloc[i][\"query1\"],train.iloc[i][\"query2\"]))"
   ]
  },
  {
   "cell_type": "code",
   "execution_count": 15,
   "id": "e6ac250f",
   "metadata": {},
   "outputs": [],
   "source": [
    "train[\"lcs_len\"] = query1_query2_lcs_len"
   ]
  },
  {
   "cell_type": "code",
   "execution_count": 16,
   "id": "b2706def",
   "metadata": {},
   "outputs": [],
   "source": [
    "#tfidf\n",
    "from sklearn.feature_extraction.text import TfidfVectorizer\n",
    "tfidf_diff_q1_q2 = []\n",
    "for i in range(len(train)):\n",
    "    corpus = [\" \".join(train.iloc[i][\"query1_seg\"]),\" \".join(train.iloc[i][\"query2_seg\"])]\n",
    "    vectorizer = TfidfVectorizer(analyzer='char')\n",
    "    vectorizer.fit_transform(corpus)\n",
    "    q1_tfidf = vectorizer.transform([corpus[0]]).todense().tolist()\n",
    "    q2_tfidf = vectorizer.transform([corpus[1]]).todense().tolist()\n",
    "    diff = 0\n",
    "    for j in range(len(q1_tfidf[0])):\n",
    "        diff += abs(q1_tfidf[0][j] - q2_tfidf[0][j])\n",
    "    tfidf_diff_q1_q2.append(diff)\n",
    "train[\"query_tfidf_diff\"] = tfidf_diff_q1_q2"
   ]
  },
  {
   "cell_type": "code",
   "execution_count": 17,
   "id": "5021bbb9",
   "metadata": {},
   "outputs": [
    {
     "data": {
      "text/html": [
       "<div>\n",
       "<style scoped>\n",
       "    .dataframe tbody tr th:only-of-type {\n",
       "        vertical-align: middle;\n",
       "    }\n",
       "\n",
       "    .dataframe tbody tr th {\n",
       "        vertical-align: top;\n",
       "    }\n",
       "\n",
       "    .dataframe thead th {\n",
       "        text-align: right;\n",
       "    }\n",
       "</style>\n",
       "<table border=\"1\" class=\"dataframe\">\n",
       "  <thead>\n",
       "    <tr style=\"text-align: right;\">\n",
       "      <th></th>\n",
       "      <th>query1</th>\n",
       "      <th>query2</th>\n",
       "      <th>label</th>\n",
       "      <th>query1_seg_len</th>\n",
       "      <th>query2_seg_len</th>\n",
       "      <th>seg_len_diff</th>\n",
       "      <th>query1_seg</th>\n",
       "      <th>query2_seg</th>\n",
       "      <th>query1_text_len</th>\n",
       "      <th>query2_text_len</th>\n",
       "      <th>text_len_diff</th>\n",
       "      <th>lcs_len</th>\n",
       "      <th>query_tfidf_diff</th>\n",
       "    </tr>\n",
       "  </thead>\n",
       "  <tbody>\n",
       "    <tr>\n",
       "      <th>0</th>\n",
       "      <td>喜欢打篮球的男生喜欢什么样的女生</td>\n",
       "      <td>爱打篮球的男生喜欢什么样的女生</td>\n",
       "      <td>1</td>\n",
       "      <td>8</td>\n",
       "      <td>8</td>\n",
       "      <td>0</td>\n",
       "      <td>[喜欢, 打篮球, 的, 男生, 喜欢, 什么样, 的, 女生]</td>\n",
       "      <td>[爱, 打篮球, 的, 男生, 喜欢, 什么样, 的, 女生]</td>\n",
       "      <td>16</td>\n",
       "      <td>15</td>\n",
       "      <td>1</td>\n",
       "      <td>14</td>\n",
       "      <td>0.460537</td>\n",
       "    </tr>\n",
       "    <tr>\n",
       "      <th>1</th>\n",
       "      <td>我手机丢了，我想换个手机</td>\n",
       "      <td>我想买个新手机，求推荐</td>\n",
       "      <td>1</td>\n",
       "      <td>8</td>\n",
       "      <td>6</td>\n",
       "      <td>2</td>\n",
       "      <td>[我, 手机, 丢, 了, ，, 我想, 换个, 手机]</td>\n",
       "      <td>[我想, 买个, 新手机, ，, 求, 推荐]</td>\n",
       "      <td>12</td>\n",
       "      <td>11</td>\n",
       "      <td>1</td>\n",
       "      <td>2</td>\n",
       "      <td>2.017176</td>\n",
       "    </tr>\n",
       "    <tr>\n",
       "      <th>2</th>\n",
       "      <td>大家觉得她好看吗</td>\n",
       "      <td>大家觉得跑男好看吗？</td>\n",
       "      <td>0</td>\n",
       "      <td>5</td>\n",
       "      <td>7</td>\n",
       "      <td>2</td>\n",
       "      <td>[大家, 觉得, 她, 好看, 吗]</td>\n",
       "      <td>[大家, 觉得, 跑, 男, 好看, 吗, ？]</td>\n",
       "      <td>8</td>\n",
       "      <td>10</td>\n",
       "      <td>2</td>\n",
       "      <td>4</td>\n",
       "      <td>1.341360</td>\n",
       "    </tr>\n",
       "    <tr>\n",
       "      <th>3</th>\n",
       "      <td>求秋色之空漫画全集</td>\n",
       "      <td>求秋色之空全集漫画</td>\n",
       "      <td>1</td>\n",
       "      <td>5</td>\n",
       "      <td>5</td>\n",
       "      <td>0</td>\n",
       "      <td>[求, 秋色, 之空, 漫画, 全集]</td>\n",
       "      <td>[求, 秋色, 之空, 全集, 漫画]</td>\n",
       "      <td>9</td>\n",
       "      <td>9</td>\n",
       "      <td>0</td>\n",
       "      <td>5</td>\n",
       "      <td>0.000000</td>\n",
       "    </tr>\n",
       "    <tr>\n",
       "      <th>4</th>\n",
       "      <td>晚上睡觉带着耳机听音乐有什么害处吗？</td>\n",
       "      <td>孕妇可以戴耳机听音乐吗?</td>\n",
       "      <td>0</td>\n",
       "      <td>12</td>\n",
       "      <td>8</td>\n",
       "      <td>4</td>\n",
       "      <td>[晚上, 睡觉, 带, 着, 耳机, 听, 音乐, 有, 什么, 害处, 吗, ？]</td>\n",
       "      <td>[孕妇, 可以, 戴, 耳机, 听, 音乐, 吗, ?]</td>\n",
       "      <td>18</td>\n",
       "      <td>12</td>\n",
       "      <td>6</td>\n",
       "      <td>5</td>\n",
       "      <td>2.690207</td>\n",
       "    </tr>\n",
       "    <tr>\n",
       "      <th>...</th>\n",
       "      <td>...</td>\n",
       "      <td>...</td>\n",
       "      <td>...</td>\n",
       "      <td>...</td>\n",
       "      <td>...</td>\n",
       "      <td>...</td>\n",
       "      <td>...</td>\n",
       "      <td>...</td>\n",
       "      <td>...</td>\n",
       "      <td>...</td>\n",
       "      <td>...</td>\n",
       "      <td>...</td>\n",
       "      <td>...</td>\n",
       "    </tr>\n",
       "    <tr>\n",
       "      <th>238761</th>\n",
       "      <td>女孩子说我是你的汤是什么意思</td>\n",
       "      <td>男孩给女孩说你的眼是海什么意思</td>\n",
       "      <td>0</td>\n",
       "      <td>10</td>\n",
       "      <td>11</td>\n",
       "      <td>1</td>\n",
       "      <td>[女孩子, 说, 我, 是, 你, 的, 汤, 是, 什么, 意思]</td>\n",
       "      <td>[男孩, 给, 女孩, 说, 你, 的, 眼, 是, 海, 什么, 意思]</td>\n",
       "      <td>14</td>\n",
       "      <td>15</td>\n",
       "      <td>1</td>\n",
       "      <td>4</td>\n",
       "      <td>1.205921</td>\n",
       "    </tr>\n",
       "    <tr>\n",
       "      <th>238762</th>\n",
       "      <td>求重生之老公请接招全文</td>\n",
       "      <td>求重生之老公请接招&gt;全文</td>\n",
       "      <td>1</td>\n",
       "      <td>7</td>\n",
       "      <td>8</td>\n",
       "      <td>1</td>\n",
       "      <td>[求, 重生, 之, 老公, 请, 接招, 全文]</td>\n",
       "      <td>[求, 重生, 之, 老公, 请, 接招, &gt;, 全文]</td>\n",
       "      <td>11</td>\n",
       "      <td>12</td>\n",
       "      <td>1</td>\n",
       "      <td>9</td>\n",
       "      <td>0.399753</td>\n",
       "    </tr>\n",
       "    <tr>\n",
       "      <th>238763</th>\n",
       "      <td>求小说电子书，</td>\n",
       "      <td>求《甄嬛》小说电子书！</td>\n",
       "      <td>0</td>\n",
       "      <td>4</td>\n",
       "      <td>8</td>\n",
       "      <td>4</td>\n",
       "      <td>[求, 小说, 电子书, ，]</td>\n",
       "      <td>[求, 《, 甄, 嬛, 》, 小说, 电子书, ！]</td>\n",
       "      <td>7</td>\n",
       "      <td>11</td>\n",
       "      <td>4</td>\n",
       "      <td>5</td>\n",
       "      <td>2.065871</td>\n",
       "    </tr>\n",
       "    <tr>\n",
       "      <th>238764</th>\n",
       "      <td>杭州有什么好玩的地方？</td>\n",
       "      <td>杭州有什么好玩的地方求推</td>\n",
       "      <td>1</td>\n",
       "      <td>7</td>\n",
       "      <td>8</td>\n",
       "      <td>1</td>\n",
       "      <td>[杭州, 有, 什么, 好玩, 的, 地方, ？]</td>\n",
       "      <td>[杭州, 有, 什么, 好玩, 的, 地方, 求, 推]</td>\n",
       "      <td>11</td>\n",
       "      <td>12</td>\n",
       "      <td>1</td>\n",
       "      <td>10</td>\n",
       "      <td>0.756582</td>\n",
       "    </tr>\n",
       "    <tr>\n",
       "      <th>238765</th>\n",
       "      <td>我想做卫生巾代理，哪里有</td>\n",
       "      <td>我想做淘宝代理去那找，怎么做</td>\n",
       "      <td>0</td>\n",
       "      <td>8</td>\n",
       "      <td>11</td>\n",
       "      <td>3</td>\n",
       "      <td>[我, 想, 做, 卫生巾, 代理, ，, 哪里, 有]</td>\n",
       "      <td>[我, 想, 做, 淘宝, 代理, 去, 那, 找, ，, 怎么, 做]</td>\n",
       "      <td>12</td>\n",
       "      <td>14</td>\n",
       "      <td>2</td>\n",
       "      <td>3</td>\n",
       "      <td>2.183777</td>\n",
       "    </tr>\n",
       "  </tbody>\n",
       "</table>\n",
       "<p>238766 rows × 13 columns</p>\n",
       "</div>"
      ],
      "text/plain": [
       "                    query1           query2  label  query1_seg_len  \\\n",
       "0         喜欢打篮球的男生喜欢什么样的女生  爱打篮球的男生喜欢什么样的女生      1               8   \n",
       "1             我手机丢了，我想换个手机      我想买个新手机，求推荐      1               8   \n",
       "2                 大家觉得她好看吗       大家觉得跑男好看吗？      0               5   \n",
       "3                求秋色之空漫画全集        求秋色之空全集漫画      1               5   \n",
       "4       晚上睡觉带着耳机听音乐有什么害处吗？     孕妇可以戴耳机听音乐吗?      0              12   \n",
       "...                    ...              ...    ...             ...   \n",
       "238761      女孩子说我是你的汤是什么意思  男孩给女孩说你的眼是海什么意思      0              10   \n",
       "238762         求重生之老公请接招全文     求重生之老公请接招>全文      1               7   \n",
       "238763             求小说电子书，      求《甄嬛》小说电子书！      0               4   \n",
       "238764         杭州有什么好玩的地方？     杭州有什么好玩的地方求推      1               7   \n",
       "238765        我想做卫生巾代理，哪里有   我想做淘宝代理去那找，怎么做      0               8   \n",
       "\n",
       "        query2_seg_len  seg_len_diff  \\\n",
       "0                    8             0   \n",
       "1                    6             2   \n",
       "2                    7             2   \n",
       "3                    5             0   \n",
       "4                    8             4   \n",
       "...                ...           ...   \n",
       "238761              11             1   \n",
       "238762               8             1   \n",
       "238763               8             4   \n",
       "238764               8             1   \n",
       "238765              11             3   \n",
       "\n",
       "                                        query1_seg  \\\n",
       "0                 [喜欢, 打篮球, 的, 男生, 喜欢, 什么样, 的, 女生]   \n",
       "1                     [我, 手机, 丢, 了, ，, 我想, 换个, 手机]   \n",
       "2                               [大家, 觉得, 她, 好看, 吗]   \n",
       "3                              [求, 秋色, 之空, 漫画, 全集]   \n",
       "4       [晚上, 睡觉, 带, 着, 耳机, 听, 音乐, 有, 什么, 害处, 吗, ？]   \n",
       "...                                            ...   \n",
       "238761          [女孩子, 说, 我, 是, 你, 的, 汤, 是, 什么, 意思]   \n",
       "238762                   [求, 重生, 之, 老公, 请, 接招, 全文]   \n",
       "238763                             [求, 小说, 电子书, ，]   \n",
       "238764                   [杭州, 有, 什么, 好玩, 的, 地方, ？]   \n",
       "238765                [我, 想, 做, 卫生巾, 代理, ，, 哪里, 有]   \n",
       "\n",
       "                                   query2_seg  query1_text_len  \\\n",
       "0             [爱, 打篮球, 的, 男生, 喜欢, 什么样, 的, 女生]               16   \n",
       "1                     [我想, 买个, 新手机, ，, 求, 推荐]               12   \n",
       "2                    [大家, 觉得, 跑, 男, 好看, 吗, ？]                8   \n",
       "3                         [求, 秋色, 之空, 全集, 漫画]                9   \n",
       "4                [孕妇, 可以, 戴, 耳机, 听, 音乐, 吗, ?]               18   \n",
       "...                                       ...              ...   \n",
       "238761  [男孩, 给, 女孩, 说, 你, 的, 眼, 是, 海, 什么, 意思]               14   \n",
       "238762           [求, 重生, 之, 老公, 请, 接招, >, 全文]               11   \n",
       "238763            [求, 《, 甄, 嬛, 》, 小说, 电子书, ！]                7   \n",
       "238764           [杭州, 有, 什么, 好玩, 的, 地方, 求, 推]               11   \n",
       "238765   [我, 想, 做, 淘宝, 代理, 去, 那, 找, ，, 怎么, 做]               12   \n",
       "\n",
       "        query2_text_len  text_len_diff  lcs_len  query_tfidf_diff  \n",
       "0                    15              1       14          0.460537  \n",
       "1                    11              1        2          2.017176  \n",
       "2                    10              2        4          1.341360  \n",
       "3                     9              0        5          0.000000  \n",
       "4                    12              6        5          2.690207  \n",
       "...                 ...            ...      ...               ...  \n",
       "238761               15              1        4          1.205921  \n",
       "238762               12              1        9          0.399753  \n",
       "238763               11              4        5          2.065871  \n",
       "238764               12              1       10          0.756582  \n",
       "238765               14              2        3          2.183777  \n",
       "\n",
       "[238766 rows x 13 columns]"
      ]
     },
     "execution_count": 17,
     "metadata": {},
     "output_type": "execute_result"
    }
   ],
   "source": [
    "#seg_len_diff是query1和query2单词个数差，text_len_diff是query1和query2文本长度差，lcs_len是query1&query2最大公共子串长度，query_tfidf_diff是query1和query2的tfidf差值\n",
    "train"
   ]
  },
  {
   "cell_type": "code",
   "execution_count": 18,
   "id": "1971e0b3",
   "metadata": {},
   "outputs": [
    {
     "name": "stdout",
     "output_type": "stream",
     "text": [
      "138574 100192\n",
      "label为1的占比: 0.5803757653937328\n"
     ]
    }
   ],
   "source": [
    "#步骤2\n",
    "print(len(train[train[\"label\"] == 1]),len(train[train[\"label\"] == 0]))\n",
    "label_1_percent = len(train[train[\"label\"] == 1])/len(train)\n",
    "print(\"label为1的占比:\",label_1_percent)"
   ]
  },
  {
   "cell_type": "code",
   "execution_count": 19,
   "id": "fa63bb90",
   "metadata": {},
   "outputs": [],
   "source": [
    "#1. 根据文本长度的差别分类(越小越好)\n",
    "text_len_diff_sort = train.sort_values(by=\"text_len_diff\")"
   ]
  },
  {
   "cell_type": "code",
   "execution_count": 20,
   "id": "7f8af209",
   "metadata": {},
   "outputs": [],
   "source": [
    "predict_by_text_len_diff_1 = text_len_diff_sort[:int(len(train)*label_1_percent)]\n",
    "predict_by_text_len_diff_0 = text_len_diff_sort[int(len(train)*label_1_percent):]"
   ]
  },
  {
   "cell_type": "code",
   "execution_count": 21,
   "id": "ae03a7dc",
   "metadata": {},
   "outputs": [
    {
     "name": "stdout",
     "output_type": "stream",
     "text": [
      "通过文本长度的差别的accuacy:61.77428947170033%\n"
     ]
    }
   ],
   "source": [
    "accuracy_from_text_len_diff = 100*(len(predict_by_text_len_diff_1[predict_by_text_len_diff_1[\"label\"] == 1]) + len(predict_by_text_len_diff_0[predict_by_text_len_diff_0[\"label\"] == 0]))/len(train)\n",
    "print(\"通过文本长度的差别的accuacy:{}%\".format(accuracy_from_text_len_diff))"
   ]
  },
  {
   "cell_type": "code",
   "execution_count": 22,
   "id": "eb7164d2",
   "metadata": {},
   "outputs": [],
   "source": [
    "#2. 根据文本单词个数差别分类（越小越好）\n",
    "seg_len_diff_sort = train.sort_values(by=\"seg_len_diff\")"
   ]
  },
  {
   "cell_type": "code",
   "execution_count": 23,
   "id": "4027325c",
   "metadata": {},
   "outputs": [
    {
     "name": "stdout",
     "output_type": "stream",
     "text": [
      "通过文本单词个数差别的accuacy:57.88596366316812%\n"
     ]
    }
   ],
   "source": [
    "predict_by_seg_len_diff_1 = seg_len_diff_sort[:int(len(train)*label_1_percent)]\n",
    "predict_by_seg_len_diff_0 = seg_len_diff_sort[int(len(train)*label_1_percent):]\n",
    "accuracy_from_seg_len_diff = 100*(len(predict_by_seg_len_diff_1[predict_by_seg_len_diff_1[\"label\"] == 1]) + len(predict_by_seg_len_diff_0[predict_by_seg_len_diff_0[\"label\"] == 0]))/len(train)\n",
    "print(\"通过文本单词个数差别的accuacy:{}%\".format(accuracy_from_seg_len_diff))"
   ]
  },
  {
   "cell_type": "code",
   "execution_count": 24,
   "id": "99f974b2",
   "metadata": {},
   "outputs": [],
   "source": [
    "#3. 根据文本最长公用字符串长度分类(越大越好)\n",
    "lcs_len_sort = train.sort_values(by=\"lcs_len\")"
   ]
  },
  {
   "cell_type": "code",
   "execution_count": 25,
   "id": "1910c2fb",
   "metadata": {},
   "outputs": [
    {
     "name": "stdout",
     "output_type": "stream",
     "text": [
      "通过文本单词个数差别的accuacy:65.00046070211002%\n"
     ]
    }
   ],
   "source": [
    "predict_by_lcs_len_diff_0 = lcs_len_sort[:int(len(train)*(1-label_1_percent))]\n",
    "predict_by_lcs_len_diff_1 = lcs_len_sort[int(len(train)*(1-label_1_percent)):]\n",
    "accuracy_from_lcs_len_diff = 100*(len(predict_by_lcs_len_diff_1[predict_by_lcs_len_diff_1[\"label\"] == 1]) + len(predict_by_lcs_len_diff_0[predict_by_lcs_len_diff_0[\"label\"] == 0]))/len(train)\n",
    "print(\"通过文本单词个数差别的accuacy:{}%\".format(accuracy_from_lcs_len_diff))"
   ]
  },
  {
   "cell_type": "code",
   "execution_count": 27,
   "id": "179b3453",
   "metadata": {},
   "outputs": [
    {
     "name": "stdout",
     "output_type": "stream",
     "text": [
      "通过TFIDF编码相似度分类的accuacy:76.76721141201008%\n"
     ]
    }
   ],
   "source": [
    "#4. 根据TFIDF编码相似度分类（越小越好）\n",
    "query_tfidf_diff_sort = train.sort_values(by=\"query_tfidf_diff\")\n",
    "predict_by_tfidf_diff_1 = query_tfidf_diff_sort[:int(len(train)*label_1_percent)]\n",
    "predict_by_tfidf_diff_0 = query_tfidf_diff_sort[int(len(train)*label_1_percent):]\n",
    "accuracy_from_tfidf_diff = 100*(len(predict_by_tfidf_diff_1[predict_by_tfidf_diff_1[\"label\"] == 1]) + len(predict_by_tfidf_diff_0[predict_by_tfidf_diff_0[\"label\"] == 0]))/len(train)\n",
    "print(\"通过TFIDF编码相似度分类的accuacy:{}%\".format(accuracy_from_tfidf_diff))"
   ]
  },
  {
   "cell_type": "code",
   "execution_count": null,
   "id": "980babce",
   "metadata": {},
   "outputs": [],
   "source": [
    "#通过任务3的分析可知，tfidf作为分类指标的效果是最好的"
   ]
  },
  {
   "cell_type": "code",
   "execution_count": null,
   "id": "da9e5127",
   "metadata": {},
   "outputs": [],
   "source": [
    "#任务4\n",
    "#TODO"
   ]
  }
 ],
 "metadata": {
  "kernelspec": {
   "display_name": "Python 3 (ipykernel)",
   "language": "python",
   "name": "python3"
  },
  "language_info": {
   "codemirror_mode": {
    "name": "ipython",
    "version": 3
   },
   "file_extension": ".py",
   "mimetype": "text/x-python",
   "name": "python",
   "nbconvert_exporter": "python",
   "pygments_lexer": "ipython3",
   "version": "3.7.12"
  }
 },
 "nbformat": 4,
 "nbformat_minor": 5
}
