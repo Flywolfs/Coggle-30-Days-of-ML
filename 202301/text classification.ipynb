{
 "cells": [
  {
   "cell_type": "code",
   "execution_count": 1,
   "id": "0cb70f2e",
   "metadata": {},
   "outputs": [],
   "source": [
    "#任务1：数据集读取\n",
    "import pandas as pd\n",
    "\n",
    "def load_lcqmc():\n",
    "    '''LCQMC文本匹配数据集\n",
    "    '''\n",
    "    train = pd.read_csv('https://mirror.coggle.club/dataset/LCQMC.train.data.zip', \n",
    "            sep='\\t', names=['query1', 'query2', 'label'])\n",
    "\n",
    "    valid = pd.read_csv('https://mirror.coggle.club/dataset/LCQMC.valid.data.zip', \n",
    "            sep='\\t', names=['query1', 'query2', 'label'])\n",
    "\n",
    "    test = pd.read_csv('https://mirror.coggle.club/dataset/LCQMC.test.data.zip', \n",
    "            sep='\\t', names=['query1', 'query2', 'label'])\n",
    "\n",
    "    return train, valid, test"
   ]
  },
  {
   "cell_type": "code",
   "execution_count": 2,
   "id": "4e0895f8",
   "metadata": {},
   "outputs": [],
   "source": [
    "train, valid, test = load_lcqmc()"
   ]
  },
  {
   "cell_type": "code",
   "execution_count": 3,
   "id": "39817b0f",
   "metadata": {},
   "outputs": [
    {
     "data": {
      "text/plain": [
       "count    238766.000000\n",
       "mean         10.668177\n",
       "std           4.087534\n",
       "min           2.000000\n",
       "25%           8.000000\n",
       "50%          10.000000\n",
       "75%          12.000000\n",
       "max          49.000000\n",
       "Name: query1, dtype: float64"
      ]
     },
     "execution_count": 3,
     "metadata": {},
     "output_type": "execute_result"
    }
   ],
   "source": [
    "#任务2：文本数据分析\n",
    "#步骤1\n",
    "train[\"query1\"].map(len).describe()"
   ]
  },
  {
   "cell_type": "code",
   "execution_count": 4,
   "id": "367a32d2",
   "metadata": {},
   "outputs": [
    {
     "data": {
      "text/plain": [
       "count    238766.000000\n",
       "mean         11.209586\n",
       "std           4.813823\n",
       "min           2.000000\n",
       "25%           8.000000\n",
       "50%          10.000000\n",
       "75%          13.000000\n",
       "max         131.000000\n",
       "Name: query2, dtype: float64"
      ]
     },
     "execution_count": 4,
     "metadata": {},
     "output_type": "execute_result"
    }
   ],
   "source": [
    "train[\"query2\"].map(len).describe()"
   ]
  },
  {
   "cell_type": "code",
   "execution_count": 5,
   "id": "ffc28a64",
   "metadata": {},
   "outputs": [
    {
     "data": {
      "text/plain": [
       "count    8802.000000\n",
       "mean       12.411497\n",
       "std         3.490952\n",
       "min         4.000000\n",
       "25%        10.000000\n",
       "50%        12.000000\n",
       "75%        14.000000\n",
       "max        36.000000\n",
       "Name: query1, dtype: float64"
      ]
     },
     "execution_count": 5,
     "metadata": {},
     "output_type": "execute_result"
    }
   ],
   "source": [
    "valid[\"query1\"].map(len).describe()"
   ]
  },
  {
   "cell_type": "code",
   "execution_count": 6,
   "id": "262c8879",
   "metadata": {},
   "outputs": [
    {
     "data": {
      "text/plain": [
       "count    8802.000000\n",
       "mean       12.575324\n",
       "std         3.722241\n",
       "min         4.000000\n",
       "25%        10.000000\n",
       "50%        12.000000\n",
       "75%        14.000000\n",
       "max        36.000000\n",
       "Name: query2, dtype: float64"
      ]
     },
     "execution_count": 6,
     "metadata": {},
     "output_type": "execute_result"
    }
   ],
   "source": [
    "valid[\"query2\"].map(len).describe()"
   ]
  },
  {
   "cell_type": "code",
   "execution_count": 7,
   "id": "3ba900d6",
   "metadata": {},
   "outputs": [
    {
     "data": {
      "text/plain": [
       "count    12500.000000\n",
       "mean         9.616080\n",
       "std          2.549024\n",
       "min          4.000000\n",
       "25%          8.000000\n",
       "50%          9.000000\n",
       "75%         11.000000\n",
       "max         26.000000\n",
       "Name: query1, dtype: float64"
      ]
     },
     "execution_count": 7,
     "metadata": {},
     "output_type": "execute_result"
    }
   ],
   "source": [
    "test[\"query1\"].map(len).describe()"
   ]
  },
  {
   "cell_type": "code",
   "execution_count": 8,
   "id": "0e6e0136",
   "metadata": {},
   "outputs": [
    {
     "data": {
      "text/plain": [
       "count    12500.000000\n",
       "mean         9.818480\n",
       "std          2.778299\n",
       "min          4.000000\n",
       "25%          8.000000\n",
       "50%          9.000000\n",
       "75%         11.000000\n",
       "max         27.000000\n",
       "Name: query2, dtype: float64"
      ]
     },
     "execution_count": 8,
     "metadata": {},
     "output_type": "execute_result"
    }
   ],
   "source": [
    "test[\"query2\"].map(len).describe()"
   ]
  },
  {
   "cell_type": "code",
   "execution_count": 9,
   "id": "ae36e4f1",
   "metadata": {},
   "outputs": [],
   "source": [
    "#步骤2\n",
    "import jieba\n",
    "def cut_by_jieba_len(sentence):\n",
    "    seg_list = jieba.cut(sentence)\n",
    "    return len(list(seg_list))\n",
    "def cut_by_jieba(sentence):\n",
    "    return list(jieba.cut(sentence))"
   ]
  },
  {
   "cell_type": "code",
   "execution_count": 12,
   "id": "9362028c",
   "metadata": {},
   "outputs": [],
   "source": [
    "#任务3：文本相似度（统计特征）\n",
    "#步骤1\n",
    "train[\"query1_seg_len\"] = train[\"query1\"].apply(cut_by_jieba_len)\n",
    "train[\"query2_seg_len\"] = train[\"query2\"].apply(cut_by_jieba_len)\n",
    "train[\"seg_len_diff\"] = abs(train[\"query1_seg_len\"]-train[\"query2_seg_len\"])\n",
    "valid[\"query1_seg_len\"] = valid[\"query1\"].apply(cut_by_jieba_len)\n",
    "valid[\"query2_seg_len\"] = valid[\"query2\"].apply(cut_by_jieba_len)\n",
    "valid[\"seg_len_diff\"] = abs(valid[\"query1_seg_len\"]-valid[\"query2_seg_len\"])\n",
    "test[\"query1_seg_len\"] = test[\"query1\"].apply(cut_by_jieba_len)\n",
    "test[\"query2_seg_len\"] = test[\"query2\"].apply(cut_by_jieba_len)\n",
    "test[\"seg_len_diff\"] = abs(test[\"query1_seg_len\"]-test[\"query2_seg_len\"])"
   ]
  },
  {
   "cell_type": "code",
   "execution_count": 13,
   "id": "2885ab85",
   "metadata": {},
   "outputs": [],
   "source": [
    "train[\"query1_seg\"] = train[\"query1\"].apply(cut_by_jieba)\n",
    "train[\"query2_seg\"] = train[\"query2\"].apply(cut_by_jieba)\n",
    "valid[\"query1_seg\"] = valid[\"query1\"].apply(cut_by_jieba)\n",
    "valid[\"query2_seg\"] = valid[\"query2\"].apply(cut_by_jieba)\n",
    "test[\"query1_seg\"] = test[\"query1\"].apply(cut_by_jieba)\n",
    "test[\"query2_seg\"] = test[\"query2\"].apply(cut_by_jieba)"
   ]
  },
  {
   "cell_type": "code",
   "execution_count": 14,
   "id": "24c74cdb",
   "metadata": {},
   "outputs": [],
   "source": [
    "#文本长度\n",
    "train[\"query1_text_len\"] = train[\"query1\"].map(len)\n",
    "train[\"query2_text_len\"] = train[\"query2\"].map(len)\n",
    "train[\"text_len_diff\"] = abs(train[\"query1_text_len\"]-train[\"query2_text_len\"])\n",
    "valid[\"query1_text_len\"] = valid[\"query1\"].map(len)\n",
    "valid[\"query2_text_len\"] = valid[\"query2\"].map(len)\n",
    "valid[\"text_len_diff\"] = abs(valid[\"query1_text_len\"]-valid[\"query2_text_len\"])\n",
    "test[\"query1_text_len\"] = test[\"query1\"].map(len)\n",
    "test[\"query2_text_len\"] = test[\"query2\"].map(len)\n",
    "test[\"text_len_diff\"] = abs(test[\"query1_text_len\"]-test[\"query2_text_len\"])"
   ]
  },
  {
   "cell_type": "code",
   "execution_count": 15,
   "id": "16fa54db",
   "metadata": {},
   "outputs": [],
   "source": [
    "#最长公共子串\n",
    "def longestCommonSubstr(word1: str, word2: str) -> int:\n",
    "\n",
    "    m = len(word1)\n",
    "    n = len(word2)\n",
    "    dp = [[0] * (n + 1) for _ in range(m + 1)]\n",
    "    # dp[i][j]代表word1以i结尾,word2以j结尾，的最大公共子串的长度\n",
    "\n",
    "    max_len = 0\n",
    "    row = 0\n",
    "    col = 0\n",
    "    for i in range(1, m + 1):\n",
    "        for j in range(1, n + 1):\n",
    "            if word1[i - 1] == word2[j - 1]:\n",
    "                dp[i][j] = dp[i - 1][j - 1] + 1\n",
    "                if max_len < dp[i][j]:\n",
    "                    max_len = dp[i][j]\n",
    "                    row = i\n",
    "                    col = j\n",
    "    return max_len"
   ]
  },
  {
   "cell_type": "code",
   "execution_count": 16,
   "id": "65e55645",
   "metadata": {},
   "outputs": [],
   "source": [
    "#query1和query2文本最长公用字符串长度\n",
    "def gen_lcs_len(df):\n",
    "    query1_query2_lcs_len = []\n",
    "    for i in range(len(df)):\n",
    "        query1_query2_lcs_len.append(longestCommonSubstr(df.iloc[i][\"query1\"],df.iloc[i][\"query2\"]))\n",
    "    return query1_query2_lcs_len"
   ]
  },
  {
   "cell_type": "code",
   "execution_count": 17,
   "id": "ad3e7e15",
   "metadata": {},
   "outputs": [],
   "source": [
    "train_query1_query2_lcs_len = gen_lcs_len(train)\n",
    "valid_query1_query2_lcs_len = gen_lcs_len(valid)\n",
    "test_query1_query2_lcs_len = gen_lcs_len(test)"
   ]
  },
  {
   "cell_type": "code",
   "execution_count": 20,
   "id": "e6ac250f",
   "metadata": {},
   "outputs": [],
   "source": [
    "train[\"lcs_len\"] = train_query1_query2_lcs_len\n",
    "valid[\"lcs_len\"] = valid_query1_query2_lcs_len\n",
    "test[\"lcs_len\"] = test_query1_query2_lcs_len"
   ]
  },
  {
   "cell_type": "code",
   "execution_count": 21,
   "id": "b2706def",
   "metadata": {},
   "outputs": [
    {
     "data": {
      "text/plain": [
       "<495136x5029 sparse matrix of type '<class 'numpy.float64'>'\n",
       "\twith 5698648 stored elements in Compressed Sparse Row format>"
      ]
     },
     "execution_count": 21,
     "metadata": {},
     "output_type": "execute_result"
    }
   ],
   "source": [
    "#tfidf\n",
    "from sklearn.feature_extraction.text import TfidfVectorizer\n",
    "tfidf_diff_q1_q2 = []\n",
    "vectorizer = TfidfVectorizer(analyzer='char')\n",
    "corpus = []\n",
    "for i in range(len(train)):\n",
    "    corpus.append(\" \".join(train.iloc[i][\"query1_seg\"]))\n",
    "    corpus.append(\" \".join(train.iloc[i][\"query2_seg\"]))\n",
    "for i in range(len(valid)):\n",
    "    corpus.append(\" \".join(valid.iloc[i][\"query1_seg\"]))\n",
    "    corpus.append(\" \".join(valid.iloc[i][\"query2_seg\"]))\n",
    "vectorizer.fit_transform(corpus)\n",
    "# for i in range(len(train)):\n",
    "#     corpus = [\" \".join(train.iloc[i][\"query1_seg\"]),\" \".join(train.iloc[i][\"query2_seg\"])]\n",
    "#     vectorizer = TfidfVectorizer(analyzer='char')\n",
    "#     vectorizer.fit_transform(corpus)\n",
    "#     q1_tfidf = vectorizer.transform([corpus[0]]).todense().tolist()\n",
    "#     q2_tfidf = vectorizer.transform([corpus[1]]).todense().tolist()\n",
    "#     diff = 0\n",
    "#     for j in range(len(q1_tfidf[0])):\n",
    "#         diff += abs(q1_tfidf[0][j] - q2_tfidf[0][j])\n",
    "#     tfidf_diff_q1_q2.append(diff)\n",
    "# train[\"query_tfidf_diff\"] = tfidf_diff_q1_q2"
   ]
  },
  {
   "cell_type": "code",
   "execution_count": 23,
   "id": "debc52d3",
   "metadata": {},
   "outputs": [],
   "source": [
    "def seg_merge(segs):\n",
    "    return \" \".join(segs)\n",
    "test[\"query1_seg_str\"] = test[\"query1_seg\"].apply(seg_merge)\n",
    "test[\"query2_seg_str\"] = test[\"query2_seg\"].apply(seg_merge)"
   ]
  },
  {
   "cell_type": "code",
   "execution_count": 28,
   "id": "5021bbb9",
   "metadata": {},
   "outputs": [],
   "source": [
    "#seg_len_diff是query1和query2单词个数差，text_len_diff是query1和query2文本长度差，lcs_len是query1&query2最大公共子串长度，query_tfidf_diff是query1和query2的tfidf差值\n",
    "def tfidf_trans(sent):\n",
    "    tfidf = vectorizer.transform([sent])\n",
    "    return tfidf\n",
    "test[\"tfidf_query1\"] = test[\"query1_seg_str\"].apply(tfidf_trans)\n",
    "test[\"tfidf_query2\"] = test[\"query2_seg_str\"].apply(tfidf_trans)"
   ]
  },
  {
   "cell_type": "code",
   "execution_count": 36,
   "id": "4f762101",
   "metadata": {},
   "outputs": [],
   "source": [
    "def tfidf_diff(tfidf1,tfidf2):\n",
    "    q1_tfidf = tfidf1.todense().tolist()\n",
    "    q2_tfidf = tfidf2.todense().tolist()\n",
    "    diff = 0\n",
    "    for j in range(len(q1_tfidf[0])):\n",
    "        diff += abs(q1_tfidf[0][j] - q2_tfidf[0][j])\n",
    "    return diff\n",
    "test[\"tfidf_diff\"] = [tfidf_diff(tfidf1,tfidf2) for tfidf1,tfidf2 in zip(test[\"tfidf_query1\"],test[\"tfidf_query2\"])]"
   ]
  },
  {
   "cell_type": "code",
   "execution_count": 39,
   "id": "8d282c28",
   "metadata": {},
   "outputs": [
    {
     "data": {
      "text/html": [
       "<div>\n",
       "<style scoped>\n",
       "    .dataframe tbody tr th:only-of-type {\n",
       "        vertical-align: middle;\n",
       "    }\n",
       "\n",
       "    .dataframe tbody tr th {\n",
       "        vertical-align: top;\n",
       "    }\n",
       "\n",
       "    .dataframe thead th {\n",
       "        text-align: right;\n",
       "    }\n",
       "</style>\n",
       "<table border=\"1\" class=\"dataframe\">\n",
       "  <thead>\n",
       "    <tr style=\"text-align: right;\">\n",
       "      <th></th>\n",
       "      <th>query1</th>\n",
       "      <th>query2</th>\n",
       "      <th>label</th>\n",
       "      <th>query1_seg_len</th>\n",
       "      <th>query2_seg_len</th>\n",
       "      <th>seg_len_diff</th>\n",
       "      <th>query1_seg</th>\n",
       "      <th>query2_seg</th>\n",
       "      <th>query1_text_len</th>\n",
       "      <th>query2_text_len</th>\n",
       "      <th>text_len_diff</th>\n",
       "      <th>lcs_len</th>\n",
       "      <th>query1_seg_str</th>\n",
       "      <th>query2_seg_str</th>\n",
       "      <th>tfidf_query1</th>\n",
       "      <th>tfidf_query2</th>\n",
       "      <th>tfidf_diff</th>\n",
       "    </tr>\n",
       "  </thead>\n",
       "  <tbody>\n",
       "    <tr>\n",
       "      <th>0</th>\n",
       "      <td>谁有狂三这张高清的</td>\n",
       "      <td>这张高清图，谁有</td>\n",
       "      <td>0</td>\n",
       "      <td>7</td>\n",
       "      <td>6</td>\n",
       "      <td>1</td>\n",
       "      <td>[谁, 有, 狂, 三, 这张, 高清, 的]</td>\n",
       "      <td>[这张, 高清, 图, ，, 谁, 有]</td>\n",
       "      <td>9</td>\n",
       "      <td>8</td>\n",
       "      <td>1</td>\n",
       "      <td>4</td>\n",
       "      <td>谁 有 狂 三 这张 高清 的</td>\n",
       "      <td>这张 高清 图 ， 谁 有</td>\n",
       "      <td>(0, 4860)\\t0.3155538548024277\\n  (0, 4370)\\t...</td>\n",
       "      <td>(0, 4993)\\t0.24950117119590645\\n  (0, 4860)\\...</td>\n",
       "      <td>1.764077</td>\n",
       "    </tr>\n",
       "    <tr>\n",
       "      <th>1</th>\n",
       "      <td>英雄联盟什么英雄最好</td>\n",
       "      <td>英雄联盟最好英雄是什么</td>\n",
       "      <td>1</td>\n",
       "      <td>5</td>\n",
       "      <td>6</td>\n",
       "      <td>1</td>\n",
       "      <td>[英雄, 联盟, 什么, 英雄, 最好]</td>\n",
       "      <td>[英雄, 联盟, 最好, 英雄, 是, 什么]</td>\n",
       "      <td>10</td>\n",
       "      <td>11</td>\n",
       "      <td>1</td>\n",
       "      <td>4</td>\n",
       "      <td>英雄 联盟 什么 英雄 最好</td>\n",
       "      <td>英雄 联盟 最好 英雄 是 什么</td>\n",
       "      <td>(0, 4685)\\t0.6341336871346732\\n  (0, 3762)\\t...</td>\n",
       "      <td>(0, 4685)\\t0.6219577374979803\\n  (0, 3762)\\t...</td>\n",
       "      <td>0.218062</td>\n",
       "    </tr>\n",
       "    <tr>\n",
       "      <th>2</th>\n",
       "      <td>这是什么意思，被蹭网吗</td>\n",
       "      <td>我也是醉了，这是什么意思</td>\n",
       "      <td>0</td>\n",
       "      <td>8</td>\n",
       "      <td>9</td>\n",
       "      <td>1</td>\n",
       "      <td>[这是, 什么, 意思, ，, 被, 蹭, 网, 吗]</td>\n",
       "      <td>[我, 也, 是, 醉, 了, ，, 这是, 什么, 意思]</td>\n",
       "      <td>11</td>\n",
       "      <td>12</td>\n",
       "      <td>1</td>\n",
       "      <td>6</td>\n",
       "      <td>这是 什么 意思 ， 被 蹭 网 吗</td>\n",
       "      <td>我 也 是 醉 了 ， 这是 什么 意思</td>\n",
       "      <td>(0, 4993)\\t0.19970582911291246\\n  (0, 4370)\\...</td>\n",
       "      <td>(0, 4993)\\t0.19780367700000576\\n  (0, 4486)\\...</td>\n",
       "      <td>2.939979</td>\n",
       "    </tr>\n",
       "    <tr>\n",
       "      <th>3</th>\n",
       "      <td>现在有什么动画片好看呢？</td>\n",
       "      <td>现在有什么好看的动画片吗？</td>\n",
       "      <td>1</td>\n",
       "      <td>7</td>\n",
       "      <td>8</td>\n",
       "      <td>1</td>\n",
       "      <td>[现在, 有, 什么, 动画片, 好看, 呢, ？]</td>\n",
       "      <td>[现在, 有, 什么, 好看, 的, 动画片, 吗, ？]</td>\n",
       "      <td>12</td>\n",
       "      <td>13</td>\n",
       "      <td>1</td>\n",
       "      <td>5</td>\n",
       "      <td>现在 有 什么 动画片 好看 呢 ？</td>\n",
       "      <td>现在 有 什么 好看 的 动画片 吗 ？</td>\n",
       "      <td>(0, 5012)\\t0.1563597287866881\\n  (0, 3121)\\t...</td>\n",
       "      <td>(0, 5012)\\t0.1542445910019394\\n  (0, 3121)\\t...</td>\n",
       "      <td>0.796405</td>\n",
       "    </tr>\n",
       "    <tr>\n",
       "      <th>4</th>\n",
       "      <td>请问晶达电子厂现在的工资待遇怎么样要求有哪些</td>\n",
       "      <td>三星电子厂工资待遇怎么样啊</td>\n",
       "      <td>0</td>\n",
       "      <td>10</td>\n",
       "      <td>5</td>\n",
       "      <td>5</td>\n",
       "      <td>[请问, 晶达, 电子厂, 现在, 的, 工资待遇, 怎么样, 要求, 有, 哪些]</td>\n",
       "      <td>[三星电子, 厂, 工资待遇, 怎么样, 啊]</td>\n",
       "      <td>22</td>\n",
       "      <td>13</td>\n",
       "      <td>9</td>\n",
       "      <td>7</td>\n",
       "      <td>请问 晶达 电子厂 现在 的 工资待遇 怎么样 要求 有 哪些</td>\n",
       "      <td>三星电子 厂 工资待遇 怎么样 啊</td>\n",
       "      <td>(0, 4611)\\t0.17840086557400103\\n  (0, 4417)\\...</td>\n",
       "      <td>(0, 4417)\\t0.40107835370982037\\n  (0, 4239)\\...</td>\n",
       "      <td>3.706871</td>\n",
       "    </tr>\n",
       "    <tr>\n",
       "      <th>...</th>\n",
       "      <td>...</td>\n",
       "      <td>...</td>\n",
       "      <td>...</td>\n",
       "      <td>...</td>\n",
       "      <td>...</td>\n",
       "      <td>...</td>\n",
       "      <td>...</td>\n",
       "      <td>...</td>\n",
       "      <td>...</td>\n",
       "      <td>...</td>\n",
       "      <td>...</td>\n",
       "      <td>...</td>\n",
       "      <td>...</td>\n",
       "      <td>...</td>\n",
       "      <td>...</td>\n",
       "      <td>...</td>\n",
       "      <td>...</td>\n",
       "    </tr>\n",
       "    <tr>\n",
       "      <th>12495</th>\n",
       "      <td>微店怎么开？怎么做代理？</td>\n",
       "      <td>微店怎样代理</td>\n",
       "      <td>1</td>\n",
       "      <td>8</td>\n",
       "      <td>3</td>\n",
       "      <td>5</td>\n",
       "      <td>[微店, 怎么, 开, ？, 怎么, 做, 代理, ？]</td>\n",
       "      <td>[微店, 怎样, 代理]</td>\n",
       "      <td>12</td>\n",
       "      <td>6</td>\n",
       "      <td>6</td>\n",
       "      <td>3</td>\n",
       "      <td>微店 怎么 开 ？ 怎么 做 代理 ？</td>\n",
       "      <td>微店 怎样 代理</td>\n",
       "      <td>(0, 5012)\\t0.28106634095656613\\n  (0, 2941)\\...</td>\n",
       "      <td>(0, 2941)\\t0.4363370955283356\\n  (0, 2273)\\t...</td>\n",
       "      <td>2.238277</td>\n",
       "    </tr>\n",
       "    <tr>\n",
       "      <th>12496</th>\n",
       "      <td>小学科学三年级上</td>\n",
       "      <td>小学三年级科学</td>\n",
       "      <td>0</td>\n",
       "      <td>4</td>\n",
       "      <td>3</td>\n",
       "      <td>1</td>\n",
       "      <td>[小学, 科学, 三年级, 上]</td>\n",
       "      <td>[小学, 三年级, 科学]</td>\n",
       "      <td>8</td>\n",
       "      <td>7</td>\n",
       "      <td>1</td>\n",
       "      <td>4</td>\n",
       "      <td>小学 科学 三年级 上</td>\n",
       "      <td>小学 三年级 科学</td>\n",
       "      <td>(0, 3417)\\t0.38201281165493967\\n  (0, 3258)\\...</td>\n",
       "      <td>(0, 3417)\\t0.39961068973268976\\n  (0, 3258)\\...</td>\n",
       "      <td>0.418174</td>\n",
       "    </tr>\n",
       "    <tr>\n",
       "      <th>12497</th>\n",
       "      <td>冬眠是什么意思？</td>\n",
       "      <td>冬眠的意思是什么</td>\n",
       "      <td>1</td>\n",
       "      <td>5</td>\n",
       "      <td>5</td>\n",
       "      <td>0</td>\n",
       "      <td>[冬眠, 是, 什么, 意思, ？]</td>\n",
       "      <td>[冬眠, 的, 意思, 是, 什么]</td>\n",
       "      <td>8</td>\n",
       "      <td>8</td>\n",
       "      <td>0</td>\n",
       "      <td>3</td>\n",
       "      <td>冬眠 是 什么 意思 ？</td>\n",
       "      <td>冬眠 的 意思 是 什么</td>\n",
       "      <td>(0, 5012)\\t0.16975306997426018\\n  (0, 3124)\\...</td>\n",
       "      <td>(0, 3124)\\t0.6111585108638913\\n  (0, 3084)\\t...</td>\n",
       "      <td>0.330381</td>\n",
       "    </tr>\n",
       "    <tr>\n",
       "      <th>12498</th>\n",
       "      <td>天猫有假货吗</td>\n",
       "      <td>天猫卖假货吗</td>\n",
       "      <td>0</td>\n",
       "      <td>4</td>\n",
       "      <td>4</td>\n",
       "      <td>0</td>\n",
       "      <td>[天猫, 有, 假货, 吗]</td>\n",
       "      <td>[天猫, 卖, 假货, 吗]</td>\n",
       "      <td>6</td>\n",
       "      <td>6</td>\n",
       "      <td>0</td>\n",
       "      <td>3</td>\n",
       "      <td>天猫 有 假货 吗</td>\n",
       "      <td>天猫 卖 假货 吗</td>\n",
       "      <td>(0, 4218)\\t0.4932369449623591\\n  (0, 2894)\\t...</td>\n",
       "      <td>(0, 4218)\\t0.4605829689687227\\n  (0, 2894)\\t...</td>\n",
       "      <td>0.813065</td>\n",
       "    </tr>\n",
       "    <tr>\n",
       "      <th>12499</th>\n",
       "      <td>天兵天将是什么生肖？</td>\n",
       "      <td>天兵天将是指什么生肖</td>\n",
       "      <td>1</td>\n",
       "      <td>5</td>\n",
       "      <td>5</td>\n",
       "      <td>0</td>\n",
       "      <td>[天兵天将, 是, 什么, 生肖, ？]</td>\n",
       "      <td>[天兵天将, 是, 指, 什么, 生肖]</td>\n",
       "      <td>10</td>\n",
       "      <td>10</td>\n",
       "      <td>0</td>\n",
       "      <td>5</td>\n",
       "      <td>天兵天将 是 什么 生肖 ？</td>\n",
       "      <td>天兵天将 是 指 什么 生肖</td>\n",
       "      <td>(0, 5012)\\t0.1420252300167168\\n  (0, 3585)\\t...</td>\n",
       "      <td>(0, 3585)\\t0.32186440400186195\\n  (0, 2991)\\...</td>\n",
       "      <td>0.648433</td>\n",
       "    </tr>\n",
       "  </tbody>\n",
       "</table>\n",
       "<p>12500 rows × 17 columns</p>\n",
       "</div>"
      ],
      "text/plain": [
       "                       query1         query2  label  query1_seg_len  \\\n",
       "0                   谁有狂三这张高清的       这张高清图，谁有      0               7   \n",
       "1                  英雄联盟什么英雄最好    英雄联盟最好英雄是什么      1               5   \n",
       "2                 这是什么意思，被蹭网吗   我也是醉了，这是什么意思      0               8   \n",
       "3                现在有什么动画片好看呢？  现在有什么好看的动画片吗？      1               7   \n",
       "4      请问晶达电子厂现在的工资待遇怎么样要求有哪些  三星电子厂工资待遇怎么样啊      0              10   \n",
       "...                       ...            ...    ...             ...   \n",
       "12495            微店怎么开？怎么做代理？         微店怎样代理      1               8   \n",
       "12496                小学科学三年级上        小学三年级科学      0               4   \n",
       "12497                冬眠是什么意思？       冬眠的意思是什么      1               5   \n",
       "12498                  天猫有假货吗         天猫卖假货吗      0               4   \n",
       "12499              天兵天将是什么生肖？     天兵天将是指什么生肖      1               5   \n",
       "\n",
       "       query2_seg_len  seg_len_diff  \\\n",
       "0                   6             1   \n",
       "1                   6             1   \n",
       "2                   9             1   \n",
       "3                   8             1   \n",
       "4                   5             5   \n",
       "...               ...           ...   \n",
       "12495               3             5   \n",
       "12496               3             1   \n",
       "12497               5             0   \n",
       "12498               4             0   \n",
       "12499               5             0   \n",
       "\n",
       "                                       query1_seg  \\\n",
       "0                         [谁, 有, 狂, 三, 这张, 高清, 的]   \n",
       "1                            [英雄, 联盟, 什么, 英雄, 最好]   \n",
       "2                     [这是, 什么, 意思, ，, 被, 蹭, 网, 吗]   \n",
       "3                      [现在, 有, 什么, 动画片, 好看, 呢, ？]   \n",
       "4      [请问, 晶达, 电子厂, 现在, 的, 工资待遇, 怎么样, 要求, 有, 哪些]   \n",
       "...                                           ...   \n",
       "12495                [微店, 怎么, 开, ？, 怎么, 做, 代理, ？]   \n",
       "12496                            [小学, 科学, 三年级, 上]   \n",
       "12497                          [冬眠, 是, 什么, 意思, ？]   \n",
       "12498                              [天猫, 有, 假货, 吗]   \n",
       "12499                        [天兵天将, 是, 什么, 生肖, ？]   \n",
       "\n",
       "                           query2_seg  query1_text_len  query2_text_len  \\\n",
       "0                [这张, 高清, 图, ，, 谁, 有]                9                8   \n",
       "1             [英雄, 联盟, 最好, 英雄, 是, 什么]               10               11   \n",
       "2      [我, 也, 是, 醉, 了, ，, 这是, 什么, 意思]               11               12   \n",
       "3       [现在, 有, 什么, 好看, 的, 动画片, 吗, ？]               12               13   \n",
       "4             [三星电子, 厂, 工资待遇, 怎么样, 啊]               22               13   \n",
       "...                               ...              ...              ...   \n",
       "12495                    [微店, 怎样, 代理]               12                6   \n",
       "12496                   [小学, 三年级, 科学]                8                7   \n",
       "12497              [冬眠, 的, 意思, 是, 什么]                8                8   \n",
       "12498                  [天猫, 卖, 假货, 吗]                6                6   \n",
       "12499            [天兵天将, 是, 指, 什么, 生肖]               10               10   \n",
       "\n",
       "       text_len_diff  lcs_len                   query1_seg_str  \\\n",
       "0                  1        4                  谁 有 狂 三 这张 高清 的   \n",
       "1                  1        4                   英雄 联盟 什么 英雄 最好   \n",
       "2                  1        6               这是 什么 意思 ， 被 蹭 网 吗   \n",
       "3                  1        5               现在 有 什么 动画片 好看 呢 ？   \n",
       "4                  9        7  请问 晶达 电子厂 现在 的 工资待遇 怎么样 要求 有 哪些   \n",
       "...              ...      ...                              ...   \n",
       "12495              6        3              微店 怎么 开 ？ 怎么 做 代理 ？   \n",
       "12496              1        4                      小学 科学 三年级 上   \n",
       "12497              0        3                     冬眠 是 什么 意思 ？   \n",
       "12498              0        3                        天猫 有 假货 吗   \n",
       "12499              0        5                   天兵天将 是 什么 生肖 ？   \n",
       "\n",
       "             query2_seg_str  \\\n",
       "0             这张 高清 图 ， 谁 有   \n",
       "1          英雄 联盟 最好 英雄 是 什么   \n",
       "2      我 也 是 醉 了 ， 这是 什么 意思   \n",
       "3      现在 有 什么 好看 的 动画片 吗 ？   \n",
       "4         三星电子 厂 工资待遇 怎么样 啊   \n",
       "...                     ...   \n",
       "12495              微店 怎样 代理   \n",
       "12496             小学 三年级 科学   \n",
       "12497          冬眠 的 意思 是 什么   \n",
       "12498             天猫 卖 假货 吗   \n",
       "12499        天兵天将 是 指 什么 生肖   \n",
       "\n",
       "                                            tfidf_query1  \\\n",
       "0        (0, 4860)\\t0.3155538548024277\\n  (0, 4370)\\t...   \n",
       "1        (0, 4685)\\t0.6341336871346732\\n  (0, 3762)\\t...   \n",
       "2        (0, 4993)\\t0.19970582911291246\\n  (0, 4370)\\...   \n",
       "3        (0, 5012)\\t0.1563597287866881\\n  (0, 3121)\\t...   \n",
       "4        (0, 4611)\\t0.17840086557400103\\n  (0, 4417)\\...   \n",
       "...                                                  ...   \n",
       "12495    (0, 5012)\\t0.28106634095656613\\n  (0, 2941)\\...   \n",
       "12496    (0, 3417)\\t0.38201281165493967\\n  (0, 3258)\\...   \n",
       "12497    (0, 5012)\\t0.16975306997426018\\n  (0, 3124)\\...   \n",
       "12498    (0, 4218)\\t0.4932369449623591\\n  (0, 2894)\\t...   \n",
       "12499    (0, 5012)\\t0.1420252300167168\\n  (0, 3585)\\t...   \n",
       "\n",
       "                                            tfidf_query2  tfidf_diff  \n",
       "0        (0, 4993)\\t0.24950117119590645\\n  (0, 4860)\\...    1.764077  \n",
       "1        (0, 4685)\\t0.6219577374979803\\n  (0, 3762)\\t...    0.218062  \n",
       "2        (0, 4993)\\t0.19780367700000576\\n  (0, 4486)\\...    2.939979  \n",
       "3        (0, 5012)\\t0.1542445910019394\\n  (0, 3121)\\t...    0.796405  \n",
       "4        (0, 4417)\\t0.40107835370982037\\n  (0, 4239)\\...    3.706871  \n",
       "...                                                  ...         ...  \n",
       "12495    (0, 2941)\\t0.4363370955283356\\n  (0, 2273)\\t...    2.238277  \n",
       "12496    (0, 3417)\\t0.39961068973268976\\n  (0, 3258)\\...    0.418174  \n",
       "12497    (0, 3124)\\t0.6111585108638913\\n  (0, 3084)\\t...    0.330381  \n",
       "12498    (0, 4218)\\t0.4605829689687227\\n  (0, 2894)\\t...    0.813065  \n",
       "12499    (0, 3585)\\t0.32186440400186195\\n  (0, 2991)\\...    0.648433  \n",
       "\n",
       "[12500 rows x 17 columns]"
      ]
     },
     "execution_count": 39,
     "metadata": {},
     "output_type": "execute_result"
    }
   ],
   "source": [
    "test"
   ]
  },
  {
   "cell_type": "code",
   "execution_count": 38,
   "id": "1971e0b3",
   "metadata": {},
   "outputs": [
    {
     "name": "stdout",
     "output_type": "stream",
     "text": [
      "label为1的占比: 0.5775221353325147\n"
     ]
    }
   ],
   "source": [
    "#步骤2\n",
    "label_1_percent = (len(train[train[\"label\"] == 1])+len(valid[valid[\"label\"] == 1]))/(len(train)+len(valid))\n",
    "print(\"label为1的占比:\",label_1_percent)"
   ]
  },
  {
   "cell_type": "code",
   "execution_count": 40,
   "id": "fa63bb90",
   "metadata": {},
   "outputs": [],
   "source": [
    "#1. 根据文本长度的差别分类(越小越好)\n",
    "text_len_diff_sort = test.sort_values(by=\"text_len_diff\")"
   ]
  },
  {
   "cell_type": "code",
   "execution_count": 41,
   "id": "7f8af209",
   "metadata": {},
   "outputs": [],
   "source": [
    "predict_by_text_len_diff_1 = text_len_diff_sort[:int(len(test)*label_1_percent)]\n",
    "predict_by_text_len_diff_0 = text_len_diff_sort[int(len(test)*label_1_percent):]"
   ]
  },
  {
   "cell_type": "code",
   "execution_count": 42,
   "id": "ae03a7dc",
   "metadata": {},
   "outputs": [
    {
     "name": "stdout",
     "output_type": "stream",
     "text": [
      "通过文本长度的差别的accuacy:55.4%\n"
     ]
    }
   ],
   "source": [
    "accuracy_from_text_len_diff = 100*(len(predict_by_text_len_diff_1[predict_by_text_len_diff_1[\"label\"] == 1]) + len(predict_by_text_len_diff_0[predict_by_text_len_diff_0[\"label\"] == 0]))/len(test)\n",
    "print(\"通过文本长度的差别的accuacy:{}%\".format(accuracy_from_text_len_diff))"
   ]
  },
  {
   "cell_type": "code",
   "execution_count": 43,
   "id": "eb7164d2",
   "metadata": {},
   "outputs": [],
   "source": [
    "#2. 根据文本单词个数差别分类（越小越好）\n",
    "seg_len_diff_sort = test.sort_values(by=\"seg_len_diff\")"
   ]
  },
  {
   "cell_type": "code",
   "execution_count": 44,
   "id": "4027325c",
   "metadata": {},
   "outputs": [
    {
     "name": "stdout",
     "output_type": "stream",
     "text": [
      "通过文本单词个数差别的accuacy:54.776%\n"
     ]
    }
   ],
   "source": [
    "predict_by_seg_len_diff_1 = seg_len_diff_sort[:int(len(test)*label_1_percent)]\n",
    "predict_by_seg_len_diff_0 = seg_len_diff_sort[int(len(test)*label_1_percent):]\n",
    "accuracy_from_seg_len_diff = 100*(len(predict_by_seg_len_diff_1[predict_by_seg_len_diff_1[\"label\"] == 1]) + len(predict_by_seg_len_diff_0[predict_by_seg_len_diff_0[\"label\"] == 0]))/len(test)\n",
    "print(\"通过文本单词个数差别的accuacy:{}%\".format(accuracy_from_seg_len_diff))"
   ]
  },
  {
   "cell_type": "code",
   "execution_count": 45,
   "id": "99f974b2",
   "metadata": {},
   "outputs": [],
   "source": [
    "#3. 根据文本最长公用字符串长度分类(越大越好)\n",
    "lcs_len_sort = test.sort_values(by=\"lcs_len\")"
   ]
  },
  {
   "cell_type": "code",
   "execution_count": 46,
   "id": "1910c2fb",
   "metadata": {},
   "outputs": [
    {
     "name": "stdout",
     "output_type": "stream",
     "text": [
      "通过文本单词个数差别的accuacy:61.184%\n"
     ]
    }
   ],
   "source": [
    "predict_by_lcs_len_diff_0 = lcs_len_sort[:int(len(test)*(1-label_1_percent))]\n",
    "predict_by_lcs_len_diff_1 = lcs_len_sort[int(len(test)*(1-label_1_percent)):]\n",
    "accuracy_from_lcs_len_diff = 100*(len(predict_by_lcs_len_diff_1[predict_by_lcs_len_diff_1[\"label\"] == 1]) + len(predict_by_lcs_len_diff_0[predict_by_lcs_len_diff_0[\"label\"] == 0]))/len(test)\n",
    "print(\"通过文本单词个数差别的accuacy:{}%\".format(accuracy_from_lcs_len_diff))"
   ]
  },
  {
   "cell_type": "code",
   "execution_count": 47,
   "id": "179b3453",
   "metadata": {},
   "outputs": [
    {
     "name": "stdout",
     "output_type": "stream",
     "text": [
      "通过TFIDF编码相似度分类的accuacy:73.16%\n"
     ]
    }
   ],
   "source": [
    "#4. 根据TFIDF编码相似度分类（越小越好）\n",
    "query_tfidf_diff_sort = test.sort_values(by=\"tfidf_diff\")\n",
    "predict_by_tfidf_diff_1 = query_tfidf_diff_sort[:int(len(test)*label_1_percent)]\n",
    "predict_by_tfidf_diff_0 = query_tfidf_diff_sort[int(len(test)*label_1_percent):]\n",
    "accuracy_from_tfidf_diff = 100*(len(predict_by_tfidf_diff_1[predict_by_tfidf_diff_1[\"label\"] == 1]) + len(predict_by_tfidf_diff_0[predict_by_tfidf_diff_0[\"label\"] == 0]))/len(test)\n",
    "print(\"通过TFIDF编码相似度分类的accuacy:{}%\".format(accuracy_from_tfidf_diff))"
   ]
  },
  {
   "cell_type": "code",
   "execution_count": null,
   "id": "980babce",
   "metadata": {},
   "outputs": [],
   "source": [
    "#通过任务3的分析可知，tfidf作为分类指标的效果是最好的"
   ]
  },
  {
   "cell_type": "code",
   "execution_count": null,
   "id": "da9e5127",
   "metadata": {},
   "outputs": [],
   "source": [
    "#任务4\n",
    "#TODO"
   ]
  }
 ],
 "metadata": {
  "kernelspec": {
   "display_name": "Python 3 (ipykernel)",
   "language": "python",
   "name": "python3"
  },
  "language_info": {
   "codemirror_mode": {
    "name": "ipython",
    "version": 3
   },
   "file_extension": ".py",
   "mimetype": "text/x-python",
   "name": "python",
   "nbconvert_exporter": "python",
   "pygments_lexer": "ipython3",
   "version": "3.7.12"
  }
 },
 "nbformat": 4,
 "nbformat_minor": 5
}
