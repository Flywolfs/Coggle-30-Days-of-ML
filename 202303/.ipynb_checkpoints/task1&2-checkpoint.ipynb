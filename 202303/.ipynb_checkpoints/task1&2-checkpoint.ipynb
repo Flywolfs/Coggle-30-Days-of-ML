{
 "cells": [
  {
   "cell_type": "code",
   "execution_count": null,
   "id": "863ab6e9",
   "metadata": {},
   "outputs": [],
   "source": [
    "import pandas as pd\n",
    "train_data = pd.read_csv('train.csv', sep='\\t', header=None)\n",
    "test_data = pd.read_csv('data_dir + 'intent-recognition-'test.csv', sep='\\t', header=None)\n",
    "\n",
    "train_data[1].value_counts()\n",
    "\n",
    "train_data[0].apply(len).describe()"
   ]
  }
 ],
 "metadata": {
  "kernelspec": {
   "display_name": "paddle",
   "language": "python",
   "name": "paddle"
  },
  "language_info": {
   "codemirror_mode": {
    "name": "ipython",
    "version": 3
   },
   "file_extension": ".py",
   "mimetype": "text/x-python",
   "name": "python",
   "nbconvert_exporter": "python",
   "pygments_lexer": "ipython3",
   "version": "3.7.12"
  }
 },
 "nbformat": 4,
 "nbformat_minor": 5
}
